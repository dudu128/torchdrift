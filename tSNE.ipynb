{
 "cells": [
  {
   "cell_type": "code",
   "execution_count": 15,
   "id": "a03b4345",
   "metadata": {},
   "outputs": [],
   "source": [
    "import argparse\n",
    "import cv2\n",
    "import numpy as np\n",
    "import torch\n",
    "from PIL import Image\n",
    "from torchvision import models, transforms\n",
    "import torch.nn as nn\n",
    "import matplotlib.pyplot as plt\n",
    "import seaborn as sns\n",
    "import os\n",
    "import json\n",
    "import csv\n",
    "import pandas as pd\n",
    "from math import ceil,sqrt\n",
    "from tqdm import tqdm\n",
    "import torch\n",
    "import torch.nn as nn\n",
    "from torch.autograd import Variable\n",
    "import torch.backends.cudnn as cudnn\n",
    "import torch.utils.data\n",
    "import torchvision.transforms as transforms\n",
    "import torch.nn.functional as F\n",
    "import matplotlib.pyplot as plt\n",
    "import yaml\n",
    "import copy\n",
    "from PIL import Image\n",
    "from torch.utils.data import Dataset\n",
    "from sklearn.metrics import classification_report, confusion_matrix ,ConfusionMatrixDisplay\n",
    "import shutil\n",
    "import cv2\n",
    "import torchdrift\n",
    "import torchvision\n",
    "import pytorch_lightning as pl\n",
    "import sklearn\n",
    "from sklearn import manifold\n",
    "from sklearn.manifold import Isomap,TSNE\n",
    "import plotly.express as px\n",
    "import sys"
   ]
  },
  {
   "cell_type": "code",
   "execution_count": 16,
   "id": "4c64b7f3",
   "metadata": {},
   "outputs": [
    {
     "name": "stdout",
     "output_type": "stream",
     "text": [
      "2\n",
      "Enable dynamical reprensetation expansion!\n",
      "16\n",
      "cuda:0\n",
      "16\n",
      "16\n"
     ]
    }
   ],
   "source": [
    "repo_name = 'DER'\n",
    "base_dir = os.path.realpath(\".\")[:os.path.realpath(\".\").index(repo_name) + len(repo_name)]\n",
    "sys.path.insert(0, base_dir)\n",
    "\n",
    "task_id = 2\n",
    "\n",
    "import yaml\n",
    "from inclearn.convnet import network\n",
    "import albumentations as A\n",
    "from albumentations.pytorch import ToTensorV2\n",
    "from torch.nn import DataParallel\n",
    "from easydict import EasyDict as edict\n",
    "\n",
    "\n",
    "config_file = \"../configs/1.yaml\"\n",
    "with open(config_file, 'r') as stream:\n",
    "    try:\n",
    "        config = yaml.safe_load(stream)\n",
    "    except yaml.YAMLError as exc:\n",
    "        print(exc)\n",
    "\n",
    "device = \"cuda:0\"\n",
    "# device = \"cpu\"\n",
    "\n",
    "cfg = edict(config)\n",
    "model = network.BasicNet(\n",
    "    cfg[\"convnet\"],\n",
    "    cfg = cfg,\n",
    "    nf = cfg[\"channel\"],\n",
    "    device = device,\n",
    "    use_bias = cfg[\"use_bias\"],\n",
    "    dataset = cfg[\"dataset\"],\n",
    ")\n",
    "parallel_model = DataParallel(model)\n",
    "\n",
    "total_classes = 28\n",
    "increments = []\n",
    "increments.append(cfg[\"start_class\"])\n",
    "for _ in range((total_classes - cfg[\"start_class\"]) // cfg[\"increment\"]):\n",
    "    increments.append(cfg[\"increment\"])\n",
    "\n",
    "for i in range(task_id+1):\n",
    "    model.add_classes(increments[i])\n",
    "    model.task_size = increments[i]\n",
    "\n",
    "if task_id == 0:\n",
    "    state_dict = torch.load(f'../ckpts2/step{task_id}.ckpt')\n",
    "else:\n",
    "    state_dict = torch.load(f'../ckpts2/decouple_step{task_id}.ckpt')"
   ]
  },
  {
   "cell_type": "code",
   "execution_count": 17,
   "id": "4f2898ad",
   "metadata": {},
   "outputs": [
    {
     "data": {
      "text/plain": [
       "DataParallel(\n",
       "  (module): BasicNet(\n",
       "    (convnets): ModuleList(\n",
       "      (0): ResNet(\n",
       "        (conv1): Sequential(\n",
       "          (0): Conv2d(3, 64, kernel_size=(3, 3), stride=(1, 1), padding=(1, 1), bias=False)\n",
       "          (1): BatchNorm2d(64, eps=1e-05, momentum=0.1, affine=True, track_running_stats=True)\n",
       "          (2): ReLU(inplace=True)\n",
       "          (3): MaxPool2d(kernel_size=3, stride=2, padding=1, dilation=1, ceil_mode=False)\n",
       "        )\n",
       "        (layer1): Sequential(\n",
       "          (0): BasicBlock(\n",
       "            (conv1): Conv2d(64, 64, kernel_size=(3, 3), stride=(1, 1), padding=(1, 1), bias=False)\n",
       "            (bn1): BatchNorm2d(64, eps=1e-05, momentum=0.1, affine=True, track_running_stats=True)\n",
       "            (relu): ReLU(inplace=True)\n",
       "            (conv2): Conv2d(64, 64, kernel_size=(3, 3), stride=(1, 1), padding=(1, 1), bias=False)\n",
       "            (bn2): BatchNorm2d(64, eps=1e-05, momentum=0.1, affine=True, track_running_stats=True)\n",
       "          )\n",
       "          (1): BasicBlock(\n",
       "            (conv1): Conv2d(64, 64, kernel_size=(3, 3), stride=(1, 1), padding=(1, 1), bias=False)\n",
       "            (bn1): BatchNorm2d(64, eps=1e-05, momentum=0.1, affine=True, track_running_stats=True)\n",
       "            (relu): ReLU(inplace=True)\n",
       "            (conv2): Conv2d(64, 64, kernel_size=(3, 3), stride=(1, 1), padding=(1, 1), bias=False)\n",
       "            (bn2): BatchNorm2d(64, eps=1e-05, momentum=0.1, affine=True, track_running_stats=True)\n",
       "          )\n",
       "        )\n",
       "        (layer2): Sequential(\n",
       "          (0): BasicBlock(\n",
       "            (conv1): Conv2d(64, 128, kernel_size=(3, 3), stride=(2, 2), padding=(1, 1), bias=False)\n",
       "            (bn1): BatchNorm2d(128, eps=1e-05, momentum=0.1, affine=True, track_running_stats=True)\n",
       "            (relu): ReLU(inplace=True)\n",
       "            (conv2): Conv2d(128, 128, kernel_size=(3, 3), stride=(1, 1), padding=(1, 1), bias=False)\n",
       "            (bn2): BatchNorm2d(128, eps=1e-05, momentum=0.1, affine=True, track_running_stats=True)\n",
       "            (downsample): Sequential(\n",
       "              (0): Conv2d(64, 128, kernel_size=(1, 1), stride=(2, 2), bias=False)\n",
       "              (1): BatchNorm2d(128, eps=1e-05, momentum=0.1, affine=True, track_running_stats=True)\n",
       "            )\n",
       "          )\n",
       "          (1): BasicBlock(\n",
       "            (conv1): Conv2d(128, 128, kernel_size=(3, 3), stride=(1, 1), padding=(1, 1), bias=False)\n",
       "            (bn1): BatchNorm2d(128, eps=1e-05, momentum=0.1, affine=True, track_running_stats=True)\n",
       "            (relu): ReLU(inplace=True)\n",
       "            (conv2): Conv2d(128, 128, kernel_size=(3, 3), stride=(1, 1), padding=(1, 1), bias=False)\n",
       "            (bn2): BatchNorm2d(128, eps=1e-05, momentum=0.1, affine=True, track_running_stats=True)\n",
       "          )\n",
       "        )\n",
       "        (layer3): Sequential(\n",
       "          (0): BasicBlock(\n",
       "            (conv1): Conv2d(128, 256, kernel_size=(3, 3), stride=(2, 2), padding=(1, 1), bias=False)\n",
       "            (bn1): BatchNorm2d(256, eps=1e-05, momentum=0.1, affine=True, track_running_stats=True)\n",
       "            (relu): ReLU(inplace=True)\n",
       "            (conv2): Conv2d(256, 256, kernel_size=(3, 3), stride=(1, 1), padding=(1, 1), bias=False)\n",
       "            (bn2): BatchNorm2d(256, eps=1e-05, momentum=0.1, affine=True, track_running_stats=True)\n",
       "            (downsample): Sequential(\n",
       "              (0): Conv2d(128, 256, kernel_size=(1, 1), stride=(2, 2), bias=False)\n",
       "              (1): BatchNorm2d(256, eps=1e-05, momentum=0.1, affine=True, track_running_stats=True)\n",
       "            )\n",
       "          )\n",
       "          (1): BasicBlock(\n",
       "            (conv1): Conv2d(256, 256, kernel_size=(3, 3), stride=(1, 1), padding=(1, 1), bias=False)\n",
       "            (bn1): BatchNorm2d(256, eps=1e-05, momentum=0.1, affine=True, track_running_stats=True)\n",
       "            (relu): ReLU(inplace=True)\n",
       "            (conv2): Conv2d(256, 256, kernel_size=(3, 3), stride=(1, 1), padding=(1, 1), bias=False)\n",
       "            (bn2): BatchNorm2d(256, eps=1e-05, momentum=0.1, affine=True, track_running_stats=True)\n",
       "          )\n",
       "        )\n",
       "        (layer4): Sequential(\n",
       "          (0): BasicBlock(\n",
       "            (conv1): Conv2d(256, 512, kernel_size=(3, 3), stride=(2, 2), padding=(1, 1), bias=False)\n",
       "            (bn1): BatchNorm2d(512, eps=1e-05, momentum=0.1, affine=True, track_running_stats=True)\n",
       "            (relu): ReLU(inplace=True)\n",
       "            (conv2): Conv2d(512, 512, kernel_size=(3, 3), stride=(1, 1), padding=(1, 1), bias=False)\n",
       "            (bn2): BatchNorm2d(512, eps=1e-05, momentum=0.1, affine=True, track_running_stats=True)\n",
       "            (downsample): Sequential(\n",
       "              (0): Conv2d(256, 512, kernel_size=(1, 1), stride=(2, 2), bias=False)\n",
       "              (1): BatchNorm2d(512, eps=1e-05, momentum=0.1, affine=True, track_running_stats=True)\n",
       "            )\n",
       "          )\n",
       "          (1): BasicBlock(\n",
       "            (conv1): Conv2d(512, 512, kernel_size=(3, 3), stride=(1, 1), padding=(1, 1), bias=False)\n",
       "            (bn1): BatchNorm2d(512, eps=1e-05, momentum=0.1, affine=True, track_running_stats=True)\n",
       "            (relu): ReLU(inplace=True)\n",
       "            (conv2): Conv2d(512, 512, kernel_size=(3, 3), stride=(1, 1), padding=(1, 1), bias=False)\n",
       "            (bn2): BatchNorm2d(512, eps=1e-05, momentum=0.1, affine=True, track_running_stats=True)\n",
       "          )\n",
       "        )\n",
       "        (avgpool): AdaptiveAvgPool2d(output_size=(1, 1))\n",
       "      )\n",
       "      (1): ResNet(\n",
       "        (conv1): Sequential(\n",
       "          (0): Conv2d(3, 64, kernel_size=(3, 3), stride=(1, 1), padding=(1, 1), bias=False)\n",
       "          (1): BatchNorm2d(64, eps=1e-05, momentum=0.1, affine=True, track_running_stats=True)\n",
       "          (2): ReLU(inplace=True)\n",
       "          (3): MaxPool2d(kernel_size=3, stride=2, padding=1, dilation=1, ceil_mode=False)\n",
       "        )\n",
       "        (layer1): Sequential(\n",
       "          (0): BasicBlock(\n",
       "            (conv1): Conv2d(64, 64, kernel_size=(3, 3), stride=(1, 1), padding=(1, 1), bias=False)\n",
       "            (bn1): BatchNorm2d(64, eps=1e-05, momentum=0.1, affine=True, track_running_stats=True)\n",
       "            (relu): ReLU(inplace=True)\n",
       "            (conv2): Conv2d(64, 64, kernel_size=(3, 3), stride=(1, 1), padding=(1, 1), bias=False)\n",
       "            (bn2): BatchNorm2d(64, eps=1e-05, momentum=0.1, affine=True, track_running_stats=True)\n",
       "          )\n",
       "          (1): BasicBlock(\n",
       "            (conv1): Conv2d(64, 64, kernel_size=(3, 3), stride=(1, 1), padding=(1, 1), bias=False)\n",
       "            (bn1): BatchNorm2d(64, eps=1e-05, momentum=0.1, affine=True, track_running_stats=True)\n",
       "            (relu): ReLU(inplace=True)\n",
       "            (conv2): Conv2d(64, 64, kernel_size=(3, 3), stride=(1, 1), padding=(1, 1), bias=False)\n",
       "            (bn2): BatchNorm2d(64, eps=1e-05, momentum=0.1, affine=True, track_running_stats=True)\n",
       "          )\n",
       "        )\n",
       "        (layer2): Sequential(\n",
       "          (0): BasicBlock(\n",
       "            (conv1): Conv2d(64, 128, kernel_size=(3, 3), stride=(2, 2), padding=(1, 1), bias=False)\n",
       "            (bn1): BatchNorm2d(128, eps=1e-05, momentum=0.1, affine=True, track_running_stats=True)\n",
       "            (relu): ReLU(inplace=True)\n",
       "            (conv2): Conv2d(128, 128, kernel_size=(3, 3), stride=(1, 1), padding=(1, 1), bias=False)\n",
       "            (bn2): BatchNorm2d(128, eps=1e-05, momentum=0.1, affine=True, track_running_stats=True)\n",
       "            (downsample): Sequential(\n",
       "              (0): Conv2d(64, 128, kernel_size=(1, 1), stride=(2, 2), bias=False)\n",
       "              (1): BatchNorm2d(128, eps=1e-05, momentum=0.1, affine=True, track_running_stats=True)\n",
       "            )\n",
       "          )\n",
       "          (1): BasicBlock(\n",
       "            (conv1): Conv2d(128, 128, kernel_size=(3, 3), stride=(1, 1), padding=(1, 1), bias=False)\n",
       "            (bn1): BatchNorm2d(128, eps=1e-05, momentum=0.1, affine=True, track_running_stats=True)\n",
       "            (relu): ReLU(inplace=True)\n",
       "            (conv2): Conv2d(128, 128, kernel_size=(3, 3), stride=(1, 1), padding=(1, 1), bias=False)\n",
       "            (bn2): BatchNorm2d(128, eps=1e-05, momentum=0.1, affine=True, track_running_stats=True)\n",
       "          )\n",
       "        )\n",
       "        (layer3): Sequential(\n",
       "          (0): BasicBlock(\n",
       "            (conv1): Conv2d(128, 256, kernel_size=(3, 3), stride=(2, 2), padding=(1, 1), bias=False)\n",
       "            (bn1): BatchNorm2d(256, eps=1e-05, momentum=0.1, affine=True, track_running_stats=True)\n",
       "            (relu): ReLU(inplace=True)\n",
       "            (conv2): Conv2d(256, 256, kernel_size=(3, 3), stride=(1, 1), padding=(1, 1), bias=False)\n",
       "            (bn2): BatchNorm2d(256, eps=1e-05, momentum=0.1, affine=True, track_running_stats=True)\n",
       "            (downsample): Sequential(\n",
       "              (0): Conv2d(128, 256, kernel_size=(1, 1), stride=(2, 2), bias=False)\n",
       "              (1): BatchNorm2d(256, eps=1e-05, momentum=0.1, affine=True, track_running_stats=True)\n",
       "            )\n",
       "          )\n",
       "          (1): BasicBlock(\n",
       "            (conv1): Conv2d(256, 256, kernel_size=(3, 3), stride=(1, 1), padding=(1, 1), bias=False)\n",
       "            (bn1): BatchNorm2d(256, eps=1e-05, momentum=0.1, affine=True, track_running_stats=True)\n",
       "            (relu): ReLU(inplace=True)\n",
       "            (conv2): Conv2d(256, 256, kernel_size=(3, 3), stride=(1, 1), padding=(1, 1), bias=False)\n",
       "            (bn2): BatchNorm2d(256, eps=1e-05, momentum=0.1, affine=True, track_running_stats=True)\n",
       "          )\n",
       "        )\n",
       "        (layer4): Sequential(\n",
       "          (0): BasicBlock(\n",
       "            (conv1): Conv2d(256, 512, kernel_size=(3, 3), stride=(2, 2), padding=(1, 1), bias=False)\n",
       "            (bn1): BatchNorm2d(512, eps=1e-05, momentum=0.1, affine=True, track_running_stats=True)\n",
       "            (relu): ReLU(inplace=True)\n",
       "            (conv2): Conv2d(512, 512, kernel_size=(3, 3), stride=(1, 1), padding=(1, 1), bias=False)\n",
       "            (bn2): BatchNorm2d(512, eps=1e-05, momentum=0.1, affine=True, track_running_stats=True)\n",
       "            (downsample): Sequential(\n",
       "              (0): Conv2d(256, 512, kernel_size=(1, 1), stride=(2, 2), bias=False)\n",
       "              (1): BatchNorm2d(512, eps=1e-05, momentum=0.1, affine=True, track_running_stats=True)\n",
       "            )\n",
       "          )\n",
       "          (1): BasicBlock(\n",
       "            (conv1): Conv2d(512, 512, kernel_size=(3, 3), stride=(1, 1), padding=(1, 1), bias=False)\n",
       "            (bn1): BatchNorm2d(512, eps=1e-05, momentum=0.1, affine=True, track_running_stats=True)\n",
       "            (relu): ReLU(inplace=True)\n",
       "            (conv2): Conv2d(512, 512, kernel_size=(3, 3), stride=(1, 1), padding=(1, 1), bias=False)\n",
       "            (bn2): BatchNorm2d(512, eps=1e-05, momentum=0.1, affine=True, track_running_stats=True)\n",
       "          )\n",
       "        )\n",
       "        (avgpool): AdaptiveAvgPool2d(output_size=(1, 1))\n",
       "      )\n",
       "      (2): ResNet(\n",
       "        (conv1): Sequential(\n",
       "          (0): Conv2d(3, 64, kernel_size=(3, 3), stride=(1, 1), padding=(1, 1), bias=False)\n",
       "          (1): BatchNorm2d(64, eps=1e-05, momentum=0.1, affine=True, track_running_stats=True)\n",
       "          (2): ReLU(inplace=True)\n",
       "          (3): MaxPool2d(kernel_size=3, stride=2, padding=1, dilation=1, ceil_mode=False)\n",
       "        )\n",
       "        (layer1): Sequential(\n",
       "          (0): BasicBlock(\n",
       "            (conv1): Conv2d(64, 64, kernel_size=(3, 3), stride=(1, 1), padding=(1, 1), bias=False)\n",
       "            (bn1): BatchNorm2d(64, eps=1e-05, momentum=0.1, affine=True, track_running_stats=True)\n",
       "            (relu): ReLU(inplace=True)\n",
       "            (conv2): Conv2d(64, 64, kernel_size=(3, 3), stride=(1, 1), padding=(1, 1), bias=False)\n",
       "            (bn2): BatchNorm2d(64, eps=1e-05, momentum=0.1, affine=True, track_running_stats=True)\n",
       "          )\n",
       "          (1): BasicBlock(\n",
       "            (conv1): Conv2d(64, 64, kernel_size=(3, 3), stride=(1, 1), padding=(1, 1), bias=False)\n",
       "            (bn1): BatchNorm2d(64, eps=1e-05, momentum=0.1, affine=True, track_running_stats=True)\n",
       "            (relu): ReLU(inplace=True)\n",
       "            (conv2): Conv2d(64, 64, kernel_size=(3, 3), stride=(1, 1), padding=(1, 1), bias=False)\n",
       "            (bn2): BatchNorm2d(64, eps=1e-05, momentum=0.1, affine=True, track_running_stats=True)\n",
       "          )\n",
       "        )\n",
       "        (layer2): Sequential(\n",
       "          (0): BasicBlock(\n",
       "            (conv1): Conv2d(64, 128, kernel_size=(3, 3), stride=(2, 2), padding=(1, 1), bias=False)\n",
       "            (bn1): BatchNorm2d(128, eps=1e-05, momentum=0.1, affine=True, track_running_stats=True)\n",
       "            (relu): ReLU(inplace=True)\n",
       "            (conv2): Conv2d(128, 128, kernel_size=(3, 3), stride=(1, 1), padding=(1, 1), bias=False)\n",
       "            (bn2): BatchNorm2d(128, eps=1e-05, momentum=0.1, affine=True, track_running_stats=True)\n",
       "            (downsample): Sequential(\n",
       "              (0): Conv2d(64, 128, kernel_size=(1, 1), stride=(2, 2), bias=False)\n",
       "              (1): BatchNorm2d(128, eps=1e-05, momentum=0.1, affine=True, track_running_stats=True)\n",
       "            )\n",
       "          )\n",
       "          (1): BasicBlock(\n",
       "            (conv1): Conv2d(128, 128, kernel_size=(3, 3), stride=(1, 1), padding=(1, 1), bias=False)\n",
       "            (bn1): BatchNorm2d(128, eps=1e-05, momentum=0.1, affine=True, track_running_stats=True)\n",
       "            (relu): ReLU(inplace=True)\n",
       "            (conv2): Conv2d(128, 128, kernel_size=(3, 3), stride=(1, 1), padding=(1, 1), bias=False)\n",
       "            (bn2): BatchNorm2d(128, eps=1e-05, momentum=0.1, affine=True, track_running_stats=True)\n",
       "          )\n",
       "        )\n",
       "        (layer3): Sequential(\n",
       "          (0): BasicBlock(\n",
       "            (conv1): Conv2d(128, 256, kernel_size=(3, 3), stride=(2, 2), padding=(1, 1), bias=False)\n",
       "            (bn1): BatchNorm2d(256, eps=1e-05, momentum=0.1, affine=True, track_running_stats=True)\n",
       "            (relu): ReLU(inplace=True)\n",
       "            (conv2): Conv2d(256, 256, kernel_size=(3, 3), stride=(1, 1), padding=(1, 1), bias=False)\n",
       "            (bn2): BatchNorm2d(256, eps=1e-05, momentum=0.1, affine=True, track_running_stats=True)\n",
       "            (downsample): Sequential(\n",
       "              (0): Conv2d(128, 256, kernel_size=(1, 1), stride=(2, 2), bias=False)\n",
       "              (1): BatchNorm2d(256, eps=1e-05, momentum=0.1, affine=True, track_running_stats=True)\n",
       "            )\n",
       "          )\n",
       "          (1): BasicBlock(\n",
       "            (conv1): Conv2d(256, 256, kernel_size=(3, 3), stride=(1, 1), padding=(1, 1), bias=False)\n",
       "            (bn1): BatchNorm2d(256, eps=1e-05, momentum=0.1, affine=True, track_running_stats=True)\n",
       "            (relu): ReLU(inplace=True)\n",
       "            (conv2): Conv2d(256, 256, kernel_size=(3, 3), stride=(1, 1), padding=(1, 1), bias=False)\n",
       "            (bn2): BatchNorm2d(256, eps=1e-05, momentum=0.1, affine=True, track_running_stats=True)\n",
       "          )\n",
       "        )\n",
       "        (layer4): Sequential(\n",
       "          (0): BasicBlock(\n",
       "            (conv1): Conv2d(256, 512, kernel_size=(3, 3), stride=(2, 2), padding=(1, 1), bias=False)\n",
       "            (bn1): BatchNorm2d(512, eps=1e-05, momentum=0.1, affine=True, track_running_stats=True)\n",
       "            (relu): ReLU(inplace=True)\n",
       "            (conv2): Conv2d(512, 512, kernel_size=(3, 3), stride=(1, 1), padding=(1, 1), bias=False)\n",
       "            (bn2): BatchNorm2d(512, eps=1e-05, momentum=0.1, affine=True, track_running_stats=True)\n",
       "            (downsample): Sequential(\n",
       "              (0): Conv2d(256, 512, kernel_size=(1, 1), stride=(2, 2), bias=False)\n",
       "              (1): BatchNorm2d(512, eps=1e-05, momentum=0.1, affine=True, track_running_stats=True)\n",
       "            )\n",
       "          )\n",
       "          (1): BasicBlock(\n",
       "            (conv1): Conv2d(512, 512, kernel_size=(3, 3), stride=(1, 1), padding=(1, 1), bias=False)\n",
       "            (bn1): BatchNorm2d(512, eps=1e-05, momentum=0.1, affine=True, track_running_stats=True)\n",
       "            (relu): ReLU(inplace=True)\n",
       "            (conv2): Conv2d(512, 512, kernel_size=(3, 3), stride=(1, 1), padding=(1, 1), bias=False)\n",
       "            (bn2): BatchNorm2d(512, eps=1e-05, momentum=0.1, affine=True, track_running_stats=True)\n",
       "          )\n",
       "        )\n",
       "        (avgpool): AdaptiveAvgPool2d(output_size=(1, 1))\n",
       "      )\n",
       "    )\n",
       "    (avgpool2): AvgPool2d(kernel_size=1, stride=1, padding=0)\n",
       "    (classifier): Linear(in_features=1536, out_features=22, bias=False)\n",
       "    (aux_classifier): Linear(in_features=512, out_features=4, bias=False)\n",
       "    (adv_classifier): Linear(in_features=512, out_features=2, bias=False)\n",
       "    (Convmask): Conv2d(512, 1, kernel_size=(1, 1), stride=(2, 2))\n",
       "  )\n",
       ")"
      ]
     },
     "execution_count": 17,
     "metadata": {},
     "output_type": "execute_result"
    }
   ],
   "source": [
    "parallel_model.load_state_dict(state_dict)\n",
    "parallel_model.eval()"
   ]
  },
  {
   "cell_type": "code",
   "execution_count": 18,
   "id": "567d78e4",
   "metadata": {},
   "outputs": [],
   "source": [
    "DEVICE = torch.device('cuda:0')\n",
    "\n",
    "flag = 10\n",
    "train_set = '/hcds_vol/private/NCU/duncan/DER/imgset/oldIMG_train/'+str(flag)\n",
    "old_c_set = '/hcds_vol/private/NCU/duncan/DER/imgset/oldIMG_testC/'+str(flag)\n",
    "old_w_set = '/hcds_vol/private/NCU/duncan/DER/imgset/oldIMG_testW/'+str(flag)\n",
    "new_c_set = '/hcds_vol/private/NCU/duncan/DER/imgset/0802IMG_C/'+str(flag)\n",
    "new_w_set = '/hcds_vol/private/NCU/duncan/DER/imgset/0802IMG_W/'+str(flag)\n",
    "\n",
    "save_path = \"/hcds_vol/private/NCU/duncan/DER/tSNE_draw/\" +str(flag)+\".png\""
   ]
  },
  {
   "cell_type": "code",
   "execution_count": 19,
   "id": "a077bb90",
   "metadata": {},
   "outputs": [],
   "source": [
    "r_size = 256\n",
    "c_crop = 224\n",
    "MEAN = [0.485, 0.456, 0.406]\n",
    "STD = [0.229, 0.224, 0.225]"
   ]
  },
  {
   "cell_type": "code",
   "execution_count": 20,
   "id": "8710e5d6",
   "metadata": {},
   "outputs": [],
   "source": [
    "class OurDataModule(pl.LightningDataModule):\n",
    "    def __init__(self, parent=None, additional_transform=None):\n",
    "        if parent is None:\n",
    "            self.train_dataset = torchvision.datasets.ImageFolder(train_set,\n",
    "                                                                  transform=train_transform)\n",
    "            self.val_dataset = torchvision.datasets.ImageFolder(test_set,\n",
    "                                                                  transform=val_transform)\n",
    "            self.test_dataset = torchvision.datasets.ImageFolder(test_set,\n",
    "                                                                  transform=val_transform)\n",
    "            self.old = torchvision.datasets.ImageFolder(oldset,\n",
    "                                                                  transform=val_transform)\n",
    "            self.new = torchvision.datasets.ImageFolder(newset,\n",
    "                                                                  transform=val_transform)\n",
    "\n",
    "            self.train_batch_size = 16\n",
    "            self.val_batch_size = 16\n",
    "            self.additional_transform = None\n",
    "            self.prepare_data_per_node = True\n",
    "        else:\n",
    "            self.train_dataset = parent.train_dataset\n",
    "            self.val_dataset = parent.val_dataset\n",
    "            self.test_dataset = parent.test_dataset\n",
    "            self.train_batch_size = parent.train_batch_size\n",
    "            self.val_batch_size = parent.val_batch_size\n",
    "            self.additional_transform = additional_transform\n",
    "        if additional_transform is not None:\n",
    "            self.additional_transform = additional_transform\n",
    "\n",
    "        self.prepare_data()\n",
    "        self.setup('fit')\n",
    "        self.setup('test')\n",
    "\n",
    "    def setup(self, typ):\n",
    "        pass\n",
    "\n",
    "    def collate_fn(self, batch):\n",
    "        batch = torch.utils.data._utils.collate.default_collate(batch)\n",
    "        if self.additional_transform:\n",
    "            batch = (self.additional_transform(batch[0]), *batch[1:])\n",
    "        return batch\n",
    "\n",
    "    def train_dataloader(self):\n",
    "        return torch.utils.data.DataLoader(self.train_dataset, batch_size=self.train_batch_size,\n",
    "                                           num_workers=24, shuffle=True, collate_fn=self.collate_fn)\n",
    "    def val_dataloader(self):\n",
    "        return torch.utils.data.DataLoader(self.val_dataset, batch_size=self.val_batch_size,\n",
    "                                           num_workers=24, shuffle=False, collate_fn=self.collate_fn)\n",
    "    def test_dataloader(self):\n",
    "        return torch.utils.data.DataLoader(self.test_dataset, batch_size=self.val_batch_size,\n",
    "                                           num_workers=24, shuffle=False, collate_fn=self.collate_fn)\n",
    "    def default_dataloader(self, batch_size=None, num_samples=None, shuffle=True):\n",
    "        dataset = self.val_dataset\n",
    "        if batch_size is None:\n",
    "            batch_size = self.val_batch_size\n",
    "        replacement = num_samples is not None\n",
    "        if shuffle:\n",
    "            sampler = torch.utils.data.RandomSampler(dataset, replacement=replacement, num_samples=num_samples)\n",
    "        else:\n",
    "            sampler = None\n",
    "        return torch.utils.data.DataLoader(dataset, batch_size=batch_size, sampler=sampler,\n",
    "                                           collate_fn=self.collate_fn)    \n",
    "    def old_dataloader(self, batch_size=None, num_samples=None, shuffle=True):\n",
    "        dataset = self.old\n",
    "        if batch_size is None:\n",
    "            batch_size = self.val_batch_size\n",
    "        replacement = num_samples is not None\n",
    "        if shuffle:\n",
    "            sampler = torch.utils.data.RandomSampler(dataset, replacement=replacement, num_samples=num_samples)\n",
    "        else:\n",
    "            sampler = None\n",
    "        return torch.utils.data.DataLoader(dataset, batch_size=batch_size, sampler=sampler,\n",
    "                                           collate_fn=self.collate_fn)\n",
    "\n",
    "    def new_dataloader(self, batch_size=None, num_samples=None, shuffle=True):\n",
    "        dataset = self.new\n",
    "        if batch_size is None:\n",
    "            batch_size = self.val_batch_size\n",
    "        replacement = num_samples is not None\n",
    "        if shuffle:\n",
    "            sampler = torch.utils.data.RandomSampler(dataset, replacement=replacement, num_samples=num_samples)\n",
    "        else:\n",
    "            sampler = None\n",
    "        return torch.utils.data.DataLoader(dataset, batch_size=batch_size, sampler=sampler,\n",
    "                                           collate_fn=self.collate_fn)                                       \n",
    "\n",
    "class Classifier(pl.LightningModule):\n",
    "    def __init__(self, base_classifier):\n",
    "        super().__init__()\n",
    "        self.backbone = base_classifier\n",
    "        self.backbone.eval()\n",
    "        for p in self.backbone.parameters():\n",
    "            p.requires_grad_(False)\n",
    "        # self.classifier = torch.nn.Linear(512, 2) # resnet18\n",
    "        self.classifier = torch.nn.Linear(2048, 2) #resnet50\n",
    "\n",
    "    def normalize(self, x: torch.Tensor):\n",
    "        # We pull the normalization, usually done in the dataset into the model forward\n",
    "        x = torchvision.transforms.functional.normalize(x, mean=[0.485, 0.456, 0.406], std=[0.229, 0.224, 0.225])\n",
    "        return x\n",
    "\n",
    "    def forward(self, x: torch.Tensor):\n",
    "        x = self.normalize(x)\n",
    "        y = self.backbone(x)\n",
    "        return self.classifier(y)\n",
    "\n",
    "    def training_step(self, batch: torch.Tensor, batch_idx: int):\n",
    "        x, y = batch\n",
    "        y_hat = self(x)\n",
    "        loss = torch.nn.functional.cross_entropy(y_hat, y)\n",
    "        acc = (y_hat.max(1).indices == y).float().mean()\n",
    "        self.log('train_loss', loss)\n",
    "        self.log('train_acc', acc)\n",
    "        return loss\n",
    "\n",
    "    def validation_step(self, batch: torch.Tensor, batch_idx: int):\n",
    "        x, y = batch\n",
    "        y_hat = self(x)\n",
    "        loss = torch.nn.functional.cross_entropy(y_hat, y)\n",
    "        acc = (y_hat.max(1).indices == y).float().mean()\n",
    "        self.log('val_loss', loss)\n",
    "        self.log('val_acc', acc)\n",
    "        return loss\n",
    "\n",
    "    def test_step(self, batch: torch.Tensor, batch_idx: int):\n",
    "        x, y = batch\n",
    "        y_hat = self(x)\n",
    "        loss = torch.nn.functional.cross_entropy(y_hat, y)\n",
    "        acc = (y_hat.max(1).indices == y).float().mean()\n",
    "        self.log('test_loss', loss)\n",
    "        self.log('test_acc', acc)\n",
    "        return loss\n",
    "\n",
    "    def predict(self, batch: 16, batch_idx=None, dataloader_idx = None):\n",
    "        return self(batch)\n",
    "\n",
    "    def configure_optimizers(self):\n",
    "        return torch.optim.Adam(self.parameters(), lr=1e-3)\n",
    "\n",
    "class ResnetPrediction(torch.nn.Module):\n",
    "    def __init__(self, model):\n",
    "        super(ResnetPrediction, self).__init__()\n",
    "        self.model = model\n",
    "\n",
    "    def forward(self, x):\n",
    "        return self.model(x)['feature']\n"
   ]
  },
  {
   "cell_type": "code",
   "execution_count": 21,
   "id": "b2e3229f",
   "metadata": {},
   "outputs": [
    {
     "data": {
      "text/plain": [
       "ResnetPrediction(\n",
       "  (model): DataParallel(\n",
       "    (module): BasicNet(\n",
       "      (convnets): ModuleList(\n",
       "        (0): ResNet(\n",
       "          (conv1): Sequential(\n",
       "            (0): Conv2d(3, 64, kernel_size=(3, 3), stride=(1, 1), padding=(1, 1), bias=False)\n",
       "            (1): BatchNorm2d(64, eps=1e-05, momentum=0.1, affine=True, track_running_stats=True)\n",
       "            (2): ReLU(inplace=True)\n",
       "            (3): MaxPool2d(kernel_size=3, stride=2, padding=1, dilation=1, ceil_mode=False)\n",
       "          )\n",
       "          (layer1): Sequential(\n",
       "            (0): BasicBlock(\n",
       "              (conv1): Conv2d(64, 64, kernel_size=(3, 3), stride=(1, 1), padding=(1, 1), bias=False)\n",
       "              (bn1): BatchNorm2d(64, eps=1e-05, momentum=0.1, affine=True, track_running_stats=True)\n",
       "              (relu): ReLU(inplace=True)\n",
       "              (conv2): Conv2d(64, 64, kernel_size=(3, 3), stride=(1, 1), padding=(1, 1), bias=False)\n",
       "              (bn2): BatchNorm2d(64, eps=1e-05, momentum=0.1, affine=True, track_running_stats=True)\n",
       "            )\n",
       "            (1): BasicBlock(\n",
       "              (conv1): Conv2d(64, 64, kernel_size=(3, 3), stride=(1, 1), padding=(1, 1), bias=False)\n",
       "              (bn1): BatchNorm2d(64, eps=1e-05, momentum=0.1, affine=True, track_running_stats=True)\n",
       "              (relu): ReLU(inplace=True)\n",
       "              (conv2): Conv2d(64, 64, kernel_size=(3, 3), stride=(1, 1), padding=(1, 1), bias=False)\n",
       "              (bn2): BatchNorm2d(64, eps=1e-05, momentum=0.1, affine=True, track_running_stats=True)\n",
       "            )\n",
       "          )\n",
       "          (layer2): Sequential(\n",
       "            (0): BasicBlock(\n",
       "              (conv1): Conv2d(64, 128, kernel_size=(3, 3), stride=(2, 2), padding=(1, 1), bias=False)\n",
       "              (bn1): BatchNorm2d(128, eps=1e-05, momentum=0.1, affine=True, track_running_stats=True)\n",
       "              (relu): ReLU(inplace=True)\n",
       "              (conv2): Conv2d(128, 128, kernel_size=(3, 3), stride=(1, 1), padding=(1, 1), bias=False)\n",
       "              (bn2): BatchNorm2d(128, eps=1e-05, momentum=0.1, affine=True, track_running_stats=True)\n",
       "              (downsample): Sequential(\n",
       "                (0): Conv2d(64, 128, kernel_size=(1, 1), stride=(2, 2), bias=False)\n",
       "                (1): BatchNorm2d(128, eps=1e-05, momentum=0.1, affine=True, track_running_stats=True)\n",
       "              )\n",
       "            )\n",
       "            (1): BasicBlock(\n",
       "              (conv1): Conv2d(128, 128, kernel_size=(3, 3), stride=(1, 1), padding=(1, 1), bias=False)\n",
       "              (bn1): BatchNorm2d(128, eps=1e-05, momentum=0.1, affine=True, track_running_stats=True)\n",
       "              (relu): ReLU(inplace=True)\n",
       "              (conv2): Conv2d(128, 128, kernel_size=(3, 3), stride=(1, 1), padding=(1, 1), bias=False)\n",
       "              (bn2): BatchNorm2d(128, eps=1e-05, momentum=0.1, affine=True, track_running_stats=True)\n",
       "            )\n",
       "          )\n",
       "          (layer3): Sequential(\n",
       "            (0): BasicBlock(\n",
       "              (conv1): Conv2d(128, 256, kernel_size=(3, 3), stride=(2, 2), padding=(1, 1), bias=False)\n",
       "              (bn1): BatchNorm2d(256, eps=1e-05, momentum=0.1, affine=True, track_running_stats=True)\n",
       "              (relu): ReLU(inplace=True)\n",
       "              (conv2): Conv2d(256, 256, kernel_size=(3, 3), stride=(1, 1), padding=(1, 1), bias=False)\n",
       "              (bn2): BatchNorm2d(256, eps=1e-05, momentum=0.1, affine=True, track_running_stats=True)\n",
       "              (downsample): Sequential(\n",
       "                (0): Conv2d(128, 256, kernel_size=(1, 1), stride=(2, 2), bias=False)\n",
       "                (1): BatchNorm2d(256, eps=1e-05, momentum=0.1, affine=True, track_running_stats=True)\n",
       "              )\n",
       "            )\n",
       "            (1): BasicBlock(\n",
       "              (conv1): Conv2d(256, 256, kernel_size=(3, 3), stride=(1, 1), padding=(1, 1), bias=False)\n",
       "              (bn1): BatchNorm2d(256, eps=1e-05, momentum=0.1, affine=True, track_running_stats=True)\n",
       "              (relu): ReLU(inplace=True)\n",
       "              (conv2): Conv2d(256, 256, kernel_size=(3, 3), stride=(1, 1), padding=(1, 1), bias=False)\n",
       "              (bn2): BatchNorm2d(256, eps=1e-05, momentum=0.1, affine=True, track_running_stats=True)\n",
       "            )\n",
       "          )\n",
       "          (layer4): Sequential(\n",
       "            (0): BasicBlock(\n",
       "              (conv1): Conv2d(256, 512, kernel_size=(3, 3), stride=(2, 2), padding=(1, 1), bias=False)\n",
       "              (bn1): BatchNorm2d(512, eps=1e-05, momentum=0.1, affine=True, track_running_stats=True)\n",
       "              (relu): ReLU(inplace=True)\n",
       "              (conv2): Conv2d(512, 512, kernel_size=(3, 3), stride=(1, 1), padding=(1, 1), bias=False)\n",
       "              (bn2): BatchNorm2d(512, eps=1e-05, momentum=0.1, affine=True, track_running_stats=True)\n",
       "              (downsample): Sequential(\n",
       "                (0): Conv2d(256, 512, kernel_size=(1, 1), stride=(2, 2), bias=False)\n",
       "                (1): BatchNorm2d(512, eps=1e-05, momentum=0.1, affine=True, track_running_stats=True)\n",
       "              )\n",
       "            )\n",
       "            (1): BasicBlock(\n",
       "              (conv1): Conv2d(512, 512, kernel_size=(3, 3), stride=(1, 1), padding=(1, 1), bias=False)\n",
       "              (bn1): BatchNorm2d(512, eps=1e-05, momentum=0.1, affine=True, track_running_stats=True)\n",
       "              (relu): ReLU(inplace=True)\n",
       "              (conv2): Conv2d(512, 512, kernel_size=(3, 3), stride=(1, 1), padding=(1, 1), bias=False)\n",
       "              (bn2): BatchNorm2d(512, eps=1e-05, momentum=0.1, affine=True, track_running_stats=True)\n",
       "            )\n",
       "          )\n",
       "          (avgpool): AdaptiveAvgPool2d(output_size=(1, 1))\n",
       "        )\n",
       "        (1): ResNet(\n",
       "          (conv1): Sequential(\n",
       "            (0): Conv2d(3, 64, kernel_size=(3, 3), stride=(1, 1), padding=(1, 1), bias=False)\n",
       "            (1): BatchNorm2d(64, eps=1e-05, momentum=0.1, affine=True, track_running_stats=True)\n",
       "            (2): ReLU(inplace=True)\n",
       "            (3): MaxPool2d(kernel_size=3, stride=2, padding=1, dilation=1, ceil_mode=False)\n",
       "          )\n",
       "          (layer1): Sequential(\n",
       "            (0): BasicBlock(\n",
       "              (conv1): Conv2d(64, 64, kernel_size=(3, 3), stride=(1, 1), padding=(1, 1), bias=False)\n",
       "              (bn1): BatchNorm2d(64, eps=1e-05, momentum=0.1, affine=True, track_running_stats=True)\n",
       "              (relu): ReLU(inplace=True)\n",
       "              (conv2): Conv2d(64, 64, kernel_size=(3, 3), stride=(1, 1), padding=(1, 1), bias=False)\n",
       "              (bn2): BatchNorm2d(64, eps=1e-05, momentum=0.1, affine=True, track_running_stats=True)\n",
       "            )\n",
       "            (1): BasicBlock(\n",
       "              (conv1): Conv2d(64, 64, kernel_size=(3, 3), stride=(1, 1), padding=(1, 1), bias=False)\n",
       "              (bn1): BatchNorm2d(64, eps=1e-05, momentum=0.1, affine=True, track_running_stats=True)\n",
       "              (relu): ReLU(inplace=True)\n",
       "              (conv2): Conv2d(64, 64, kernel_size=(3, 3), stride=(1, 1), padding=(1, 1), bias=False)\n",
       "              (bn2): BatchNorm2d(64, eps=1e-05, momentum=0.1, affine=True, track_running_stats=True)\n",
       "            )\n",
       "          )\n",
       "          (layer2): Sequential(\n",
       "            (0): BasicBlock(\n",
       "              (conv1): Conv2d(64, 128, kernel_size=(3, 3), stride=(2, 2), padding=(1, 1), bias=False)\n",
       "              (bn1): BatchNorm2d(128, eps=1e-05, momentum=0.1, affine=True, track_running_stats=True)\n",
       "              (relu): ReLU(inplace=True)\n",
       "              (conv2): Conv2d(128, 128, kernel_size=(3, 3), stride=(1, 1), padding=(1, 1), bias=False)\n",
       "              (bn2): BatchNorm2d(128, eps=1e-05, momentum=0.1, affine=True, track_running_stats=True)\n",
       "              (downsample): Sequential(\n",
       "                (0): Conv2d(64, 128, kernel_size=(1, 1), stride=(2, 2), bias=False)\n",
       "                (1): BatchNorm2d(128, eps=1e-05, momentum=0.1, affine=True, track_running_stats=True)\n",
       "              )\n",
       "            )\n",
       "            (1): BasicBlock(\n",
       "              (conv1): Conv2d(128, 128, kernel_size=(3, 3), stride=(1, 1), padding=(1, 1), bias=False)\n",
       "              (bn1): BatchNorm2d(128, eps=1e-05, momentum=0.1, affine=True, track_running_stats=True)\n",
       "              (relu): ReLU(inplace=True)\n",
       "              (conv2): Conv2d(128, 128, kernel_size=(3, 3), stride=(1, 1), padding=(1, 1), bias=False)\n",
       "              (bn2): BatchNorm2d(128, eps=1e-05, momentum=0.1, affine=True, track_running_stats=True)\n",
       "            )\n",
       "          )\n",
       "          (layer3): Sequential(\n",
       "            (0): BasicBlock(\n",
       "              (conv1): Conv2d(128, 256, kernel_size=(3, 3), stride=(2, 2), padding=(1, 1), bias=False)\n",
       "              (bn1): BatchNorm2d(256, eps=1e-05, momentum=0.1, affine=True, track_running_stats=True)\n",
       "              (relu): ReLU(inplace=True)\n",
       "              (conv2): Conv2d(256, 256, kernel_size=(3, 3), stride=(1, 1), padding=(1, 1), bias=False)\n",
       "              (bn2): BatchNorm2d(256, eps=1e-05, momentum=0.1, affine=True, track_running_stats=True)\n",
       "              (downsample): Sequential(\n",
       "                (0): Conv2d(128, 256, kernel_size=(1, 1), stride=(2, 2), bias=False)\n",
       "                (1): BatchNorm2d(256, eps=1e-05, momentum=0.1, affine=True, track_running_stats=True)\n",
       "              )\n",
       "            )\n",
       "            (1): BasicBlock(\n",
       "              (conv1): Conv2d(256, 256, kernel_size=(3, 3), stride=(1, 1), padding=(1, 1), bias=False)\n",
       "              (bn1): BatchNorm2d(256, eps=1e-05, momentum=0.1, affine=True, track_running_stats=True)\n",
       "              (relu): ReLU(inplace=True)\n",
       "              (conv2): Conv2d(256, 256, kernel_size=(3, 3), stride=(1, 1), padding=(1, 1), bias=False)\n",
       "              (bn2): BatchNorm2d(256, eps=1e-05, momentum=0.1, affine=True, track_running_stats=True)\n",
       "            )\n",
       "          )\n",
       "          (layer4): Sequential(\n",
       "            (0): BasicBlock(\n",
       "              (conv1): Conv2d(256, 512, kernel_size=(3, 3), stride=(2, 2), padding=(1, 1), bias=False)\n",
       "              (bn1): BatchNorm2d(512, eps=1e-05, momentum=0.1, affine=True, track_running_stats=True)\n",
       "              (relu): ReLU(inplace=True)\n",
       "              (conv2): Conv2d(512, 512, kernel_size=(3, 3), stride=(1, 1), padding=(1, 1), bias=False)\n",
       "              (bn2): BatchNorm2d(512, eps=1e-05, momentum=0.1, affine=True, track_running_stats=True)\n",
       "              (downsample): Sequential(\n",
       "                (0): Conv2d(256, 512, kernel_size=(1, 1), stride=(2, 2), bias=False)\n",
       "                (1): BatchNorm2d(512, eps=1e-05, momentum=0.1, affine=True, track_running_stats=True)\n",
       "              )\n",
       "            )\n",
       "            (1): BasicBlock(\n",
       "              (conv1): Conv2d(512, 512, kernel_size=(3, 3), stride=(1, 1), padding=(1, 1), bias=False)\n",
       "              (bn1): BatchNorm2d(512, eps=1e-05, momentum=0.1, affine=True, track_running_stats=True)\n",
       "              (relu): ReLU(inplace=True)\n",
       "              (conv2): Conv2d(512, 512, kernel_size=(3, 3), stride=(1, 1), padding=(1, 1), bias=False)\n",
       "              (bn2): BatchNorm2d(512, eps=1e-05, momentum=0.1, affine=True, track_running_stats=True)\n",
       "            )\n",
       "          )\n",
       "          (avgpool): AdaptiveAvgPool2d(output_size=(1, 1))\n",
       "        )\n",
       "        (2): ResNet(\n",
       "          (conv1): Sequential(\n",
       "            (0): Conv2d(3, 64, kernel_size=(3, 3), stride=(1, 1), padding=(1, 1), bias=False)\n",
       "            (1): BatchNorm2d(64, eps=1e-05, momentum=0.1, affine=True, track_running_stats=True)\n",
       "            (2): ReLU(inplace=True)\n",
       "            (3): MaxPool2d(kernel_size=3, stride=2, padding=1, dilation=1, ceil_mode=False)\n",
       "          )\n",
       "          (layer1): Sequential(\n",
       "            (0): BasicBlock(\n",
       "              (conv1): Conv2d(64, 64, kernel_size=(3, 3), stride=(1, 1), padding=(1, 1), bias=False)\n",
       "              (bn1): BatchNorm2d(64, eps=1e-05, momentum=0.1, affine=True, track_running_stats=True)\n",
       "              (relu): ReLU(inplace=True)\n",
       "              (conv2): Conv2d(64, 64, kernel_size=(3, 3), stride=(1, 1), padding=(1, 1), bias=False)\n",
       "              (bn2): BatchNorm2d(64, eps=1e-05, momentum=0.1, affine=True, track_running_stats=True)\n",
       "            )\n",
       "            (1): BasicBlock(\n",
       "              (conv1): Conv2d(64, 64, kernel_size=(3, 3), stride=(1, 1), padding=(1, 1), bias=False)\n",
       "              (bn1): BatchNorm2d(64, eps=1e-05, momentum=0.1, affine=True, track_running_stats=True)\n",
       "              (relu): ReLU(inplace=True)\n",
       "              (conv2): Conv2d(64, 64, kernel_size=(3, 3), stride=(1, 1), padding=(1, 1), bias=False)\n",
       "              (bn2): BatchNorm2d(64, eps=1e-05, momentum=0.1, affine=True, track_running_stats=True)\n",
       "            )\n",
       "          )\n",
       "          (layer2): Sequential(\n",
       "            (0): BasicBlock(\n",
       "              (conv1): Conv2d(64, 128, kernel_size=(3, 3), stride=(2, 2), padding=(1, 1), bias=False)\n",
       "              (bn1): BatchNorm2d(128, eps=1e-05, momentum=0.1, affine=True, track_running_stats=True)\n",
       "              (relu): ReLU(inplace=True)\n",
       "              (conv2): Conv2d(128, 128, kernel_size=(3, 3), stride=(1, 1), padding=(1, 1), bias=False)\n",
       "              (bn2): BatchNorm2d(128, eps=1e-05, momentum=0.1, affine=True, track_running_stats=True)\n",
       "              (downsample): Sequential(\n",
       "                (0): Conv2d(64, 128, kernel_size=(1, 1), stride=(2, 2), bias=False)\n",
       "                (1): BatchNorm2d(128, eps=1e-05, momentum=0.1, affine=True, track_running_stats=True)\n",
       "              )\n",
       "            )\n",
       "            (1): BasicBlock(\n",
       "              (conv1): Conv2d(128, 128, kernel_size=(3, 3), stride=(1, 1), padding=(1, 1), bias=False)\n",
       "              (bn1): BatchNorm2d(128, eps=1e-05, momentum=0.1, affine=True, track_running_stats=True)\n",
       "              (relu): ReLU(inplace=True)\n",
       "              (conv2): Conv2d(128, 128, kernel_size=(3, 3), stride=(1, 1), padding=(1, 1), bias=False)\n",
       "              (bn2): BatchNorm2d(128, eps=1e-05, momentum=0.1, affine=True, track_running_stats=True)\n",
       "            )\n",
       "          )\n",
       "          (layer3): Sequential(\n",
       "            (0): BasicBlock(\n",
       "              (conv1): Conv2d(128, 256, kernel_size=(3, 3), stride=(2, 2), padding=(1, 1), bias=False)\n",
       "              (bn1): BatchNorm2d(256, eps=1e-05, momentum=0.1, affine=True, track_running_stats=True)\n",
       "              (relu): ReLU(inplace=True)\n",
       "              (conv2): Conv2d(256, 256, kernel_size=(3, 3), stride=(1, 1), padding=(1, 1), bias=False)\n",
       "              (bn2): BatchNorm2d(256, eps=1e-05, momentum=0.1, affine=True, track_running_stats=True)\n",
       "              (downsample): Sequential(\n",
       "                (0): Conv2d(128, 256, kernel_size=(1, 1), stride=(2, 2), bias=False)\n",
       "                (1): BatchNorm2d(256, eps=1e-05, momentum=0.1, affine=True, track_running_stats=True)\n",
       "              )\n",
       "            )\n",
       "            (1): BasicBlock(\n",
       "              (conv1): Conv2d(256, 256, kernel_size=(3, 3), stride=(1, 1), padding=(1, 1), bias=False)\n",
       "              (bn1): BatchNorm2d(256, eps=1e-05, momentum=0.1, affine=True, track_running_stats=True)\n",
       "              (relu): ReLU(inplace=True)\n",
       "              (conv2): Conv2d(256, 256, kernel_size=(3, 3), stride=(1, 1), padding=(1, 1), bias=False)\n",
       "              (bn2): BatchNorm2d(256, eps=1e-05, momentum=0.1, affine=True, track_running_stats=True)\n",
       "            )\n",
       "          )\n",
       "          (layer4): Sequential(\n",
       "            (0): BasicBlock(\n",
       "              (conv1): Conv2d(256, 512, kernel_size=(3, 3), stride=(2, 2), padding=(1, 1), bias=False)\n",
       "              (bn1): BatchNorm2d(512, eps=1e-05, momentum=0.1, affine=True, track_running_stats=True)\n",
       "              (relu): ReLU(inplace=True)\n",
       "              (conv2): Conv2d(512, 512, kernel_size=(3, 3), stride=(1, 1), padding=(1, 1), bias=False)\n",
       "              (bn2): BatchNorm2d(512, eps=1e-05, momentum=0.1, affine=True, track_running_stats=True)\n",
       "              (downsample): Sequential(\n",
       "                (0): Conv2d(256, 512, kernel_size=(1, 1), stride=(2, 2), bias=False)\n",
       "                (1): BatchNorm2d(512, eps=1e-05, momentum=0.1, affine=True, track_running_stats=True)\n",
       "              )\n",
       "            )\n",
       "            (1): BasicBlock(\n",
       "              (conv1): Conv2d(512, 512, kernel_size=(3, 3), stride=(1, 1), padding=(1, 1), bias=False)\n",
       "              (bn1): BatchNorm2d(512, eps=1e-05, momentum=0.1, affine=True, track_running_stats=True)\n",
       "              (relu): ReLU(inplace=True)\n",
       "              (conv2): Conv2d(512, 512, kernel_size=(3, 3), stride=(1, 1), padding=(1, 1), bias=False)\n",
       "              (bn2): BatchNorm2d(512, eps=1e-05, momentum=0.1, affine=True, track_running_stats=True)\n",
       "            )\n",
       "          )\n",
       "          (avgpool): AdaptiveAvgPool2d(output_size=(1, 1))\n",
       "        )\n",
       "      )\n",
       "      (avgpool2): AvgPool2d(kernel_size=1, stride=1, padding=0)\n",
       "      (classifier): Linear(in_features=1536, out_features=22, bias=False)\n",
       "      (aux_classifier): Linear(in_features=512, out_features=4, bias=False)\n",
       "      (adv_classifier): Linear(in_features=512, out_features=2, bias=False)\n",
       "      (Convmask): Conv2d(512, 1, kernel_size=(1, 1), stride=(2, 2))\n",
       "    )\n",
       "  )\n",
       ")"
      ]
     },
     "execution_count": 21,
     "metadata": {},
     "output_type": "execute_result"
    }
   ],
   "source": [
    "train_transform = torchvision.transforms.Compose([\n",
    "    torchvision.transforms.Resize((r_size, r_size)),\n",
    "    torchvision.transforms.CenterCrop((c_crop,c_crop)),\n",
    "    torchvision.transforms.ToTensor(),\n",
    "    torchvision.transforms.Normalize(MEAN, STD)])\n",
    "\n",
    "val_transform = torchvision.transforms.Compose([\n",
    "    torchvision.transforms.Resize((r_size, r_size)),\n",
    "    torchvision.transforms.CenterCrop((c_crop, c_crop)),\n",
    "    torchvision.transforms.ToTensor(),\n",
    "    torchvision.transforms.Normalize(MEAN, STD)])\n",
    "\n",
    "datamodule = OurDataModule()\n",
    "\n",
    "FE = ResnetPrediction(parallel_model)\n",
    "\n",
    "FE.to(DEVICE)"
   ]
  },
  {
   "cell_type": "code",
   "execution_count": 22,
   "id": "99cee22b",
   "metadata": {},
   "outputs": [],
   "source": [
    "old_dataloader = datamodule.old_dataloader(batch_size=50, shuffle=False)\n",
    "with torch.no_grad():\n",
    "    for batch_cnt_val, data_val in enumerate(old_dataloader):\n",
    "        inputs,_ = data_val\n",
    "        inputs = inputs.to(DEVICE)\n",
    "        \n",
    "        if batch_cnt_val==0:\n",
    "            features_old = parallel_model(inputs)['feature']\n",
    "            # features = FE(inputs)\n",
    "        else:\n",
    "            features_old = torch.cat([features_old,FE(inputs)])\n",
    "            # features = torch.cat([features,parallel_model(inputs)]['feature'])\n",
    "\n",
    "\n",
    "new_dataloader = datamodule.new_dataloader(batch_size=50, shuffle=False)\n",
    "with torch.no_grad():\n",
    "    for batch_cnt_val, data_val in enumerate(new_dataloader):\n",
    "        inputs,_ = data_val\n",
    "        inputs = inputs.to(DEVICE)\n",
    "        \n",
    "        if batch_cnt_val==0:\n",
    "            features_new = parallel_model(inputs)['feature']\n",
    "            # features = FE(inputs)\n",
    "        else:\n",
    "            features_new = torch.cat([features_new,FE(inputs)])\n",
    "            # features = torch.cat([features,parallel_model(inputs)]['feature'])\n"
   ]
  },
  {
   "cell_type": "code",
   "execution_count": 23,
   "id": "f9b24550",
   "metadata": {},
   "outputs": [],
   "source": [
    "all_features = torch.cat([features_old,features_new])\n",
    "all_features = all_features.cpu().detach().numpy()\n",
    "features_old = features_old.cpu().detach().numpy()\n",
    "features_new = features_new.cpu().detach().numpy()\n"
   ]
  },
  {
   "cell_type": "code",
   "execution_count": 24,
   "id": "5e7d3254",
   "metadata": {},
   "outputs": [],
   "source": [
    "data_old = ['c101_correct']*len(features_old)\n",
    "df_old = pd.DataFrame(data_old)\n",
    "\n",
    "data_new = ['0802_wrong']*len(features_new)\n",
    "df_new = pd.DataFrame(data_new)\n",
    "\n",
    "frames = [df_old, df_new]\n",
    "df_all = pd.concat(frames)\n",
    "df_all = df_all.reset_index(drop=True)\n",
    "df_all.columns = [\"label\"]"
   ]
  },
  {
   "cell_type": "code",
   "execution_count": 25,
   "id": "b3cb3f4a",
   "metadata": {},
   "outputs": [],
   "source": [
    "# data_oc = ['c101_correct']*len(features_oc)\n",
    "data_oc = ['c101']*len(features_oc)\n",
    "df_oc = pd.DataFrame(data_oc)\n",
    "\n",
    "# data_ow = ['c101_wrong']*len(features_ow)\n",
    "data_ow = ['c101']*len(features_ow)\n",
    "df_ow = pd.DataFrame(data_ow)\n",
    "\n",
    "# data_nc = ['0802_correct']*len(features_nc)\n",
    "data_nc = ['0802']*len(features_nc)\n",
    "df_nc = pd.DataFrame(data_nc)\n",
    "\n",
    "# data_nw = ['0802_wrong']*len(features_nw)\n",
    "data_nw = ['0802']*len(features_nw)\n",
    "df_nw = pd.DataFrame(data_nw)"
   ]
  },
  {
   "cell_type": "code",
   "execution_count": 26,
   "id": "c01cb503",
   "metadata": {},
   "outputs": [
    {
     "name": "stdout",
     "output_type": "stream",
     "text": [
      "=====10=====\n"
     ]
    }
   ],
   "source": [
    "frames = [df_oc, df_ow, df_nc,df_nw]\n",
    "# frames = [df_oc, df_nc,df_nw]\n",
    "# frames = [df_oc, df_ow, df_nc]\n",
    "df_all = pd.concat(frames)\n",
    "df_all = df_all.reset_index(drop=True)\n",
    "df_all.columns = [\"label\"]\n",
    "print(\"=====\"+str(flag)+\"=====\")"
   ]
  },
  {
   "cell_type": "code",
   "execution_count": 27,
   "id": "6a539700",
   "metadata": {},
   "outputs": [
    {
     "data": {
      "application/vnd.plotly.v1+json": {
       "config": {
        "plotlyServerURL": "https://plot.ly"
       },
       "data": [
        {
         "hovertemplate": "label=c101<br>0=%{x}<br>1=%{y}<br>2=%{z}<extra></extra>",
         "legendgroup": "c101",
         "marker": {
          "color": "#636efa",
          "size": 6,
          "symbol": "circle"
         },
         "mode": "markers",
         "name": "c101",
         "scene": "scene",
         "showlegend": true,
         "type": "scatter3d",
         "x": [
          39.347755432128906,
          -52.124366760253906,
          9.939412117004395,
          -52.87668228149414,
          -53.476016998291016,
          -70.66264343261719,
          -36.25947189331055,
          55.07368469238281,
          -22.049543380737305,
          -14.328873634338379,
          48.742740631103516,
          -57.717262268066406,
          41.34416961669922,
          -20.221115112304688,
          -15.599498748779297,
          -5.067871570587158,
          -0.32427433133125305,
          -30.155702590942383,
          -0.4116746187210083,
          -15.96026611328125,
          18.24798583984375,
          -5.395753860473633,
          -18.080101013183594,
          13.110998153686523,
          47.43682098388672,
          -20.300840377807617,
          20.2304630279541,
          -29.5979061126709,
          49.7620735168457,
          -1.197956919670105,
          -52.81517028808594,
          39.93718338012695,
          35.560359954833984,
          7.149831295013428,
          47.37180709838867,
          -32.720062255859375,
          37.07539749145508,
          -32.55857849121094,
          16.55718421936035,
          -1.9960050582885742,
          33.855995178222656,
          48.97214126586914,
          18.723873138427734,
          21.16741180419922,
          -24.47594451904297,
          -2.066375494003296,
          -42.210121154785156,
          -23.9066219329834,
          -29.658681869506836,
          -23.76583480834961,
          -58.306949615478516,
          -34.54082107543945,
          -10.10810375213623,
          -48.18069839477539,
          -0.913229763507843,
          -17.364028930664062,
          -58.73958206176758,
          -7.644984722137451,
          -3.3964710235595703,
          11.352229118347168,
          10.788178443908691,
          3.2342634201049805,
          0.009046543389558792,
          -21.072465896606445,
          -41.41649627685547,
          -38.740482330322266,
          -34.38407897949219,
          -8.156426429748535,
          3.3848936557769775,
          3.2490603923797607,
          -12.39005184173584,
          -21.515840530395508,
          -11.900677680969238,
          -37.714847564697266,
          -15.122382164001465,
          17.58218765258789,
          -34.4166259765625,
          -22.86931610107422,
          21.99430274963379,
          -27.2744197845459,
          -3.975973606109619,
          -22.179521560668945,
          -44.40888977050781,
          -30.95342445373535,
          -4.177004814147949,
          -31.113794326782227,
          -35.344112396240234,
          -16.751502990722656,
          -52.1362419128418,
          -58.060787200927734,
          45.003787994384766,
          52.294395446777344,
          21.728580474853516,
          22.64325714111328,
          -80.53791809082031,
          -68.42164611816406,
          46.23016357421875,
          36.62083053588867,
          -19.619035720825195,
          53.95136260986328,
          40.54927444458008,
          56.93644714355469,
          3.886101245880127,
          21.974170684814453,
          24.25929069519043,
          30.15790557861328,
          -26.221994400024414,
          39.95491027832031,
          53.1487922668457,
          23.608898162841797,
          54.094947814941406
         ],
         "y": [
          -34.96403884887695,
          1.1517733335494995,
          -7.22715425491333,
          49.52675247192383,
          39.5497932434082,
          13.29626178741455,
          -6.9406280517578125,
          1.2834397554397583,
          13.095572471618652,
          -32.92353439331055,
          14.54885196685791,
          -10.92214584350586,
          11.905098915100098,
          -10.336024284362793,
          34.00066375732422,
          -26.357589721679688,
          41.480777740478516,
          -26.148937225341797,
          64.41403198242188,
          -15.962879180908203,
          -35.3405647277832,
          -3.632117509841919,
          14.334348678588867,
          39.40224838256836,
          -13.041346549987793,
          19.927698135375977,
          58.555999755859375,
          22.694393157958984,
          -2.761878490447998,
          22.892751693725586,
          15.415190696716309,
          -30.18726921081543,
          -6.6547465324401855,
          9.091139793395996,
          -37.111812591552734,
          19.79515838623047,
          -12.988165855407715,
          -24.57048988342285,
          35.59567642211914,
          -1.459659218788147,
          -27.586807250976562,
          -18.173397064208984,
          -14.979751586914062,
          -19.027965545654297,
          52.340476989746094,
          26.78522491455078,
          50.970176696777344,
          28.417516708374023,
          57.23258972167969,
          -10.505606651306152,
          12.961461067199707,
          38.903804779052734,
          64.8619613647461,
          25.32789421081543,
          19.833209991455078,
          55.863773345947266,
          38.45869064331055,
          13.433574676513672,
          26.151386260986328,
          14.227794647216797,
          58.76373291015625,
          -31.18805503845215,
          49.47728729248047,
          29.64851188659668,
          -8.245890617370605,
          -28.700029373168945,
          65.31045532226562,
          2.7307515144348145,
          8.606609344482422,
          50.293209075927734,
          36.33348846435547,
          45.40553283691406,
          41.72121810913086,
          11.285529136657715,
          12.90921401977539,
          -36.94639205932617,
          -21.066743850708008,
          -6.786641597747803,
          40.03691864013672,
          79.7890396118164,
          41.312477111816406,
          40.23244094848633,
          23.844219207763672,
          36.93617630004883,
          64.82950592041016,
          51.197349548339844,
          58.160152435302734,
          65.43701171875,
          53.11726760864258,
          -12.014570236206055,
          45.847259521484375,
          33.92477035522461,
          27.992881774902344,
          27.259178161621094,
          -1.8502172231674194,
          -20.864604949951172,
          28.731067657470703,
          -60.1948127746582,
          -26.149627685546875,
          -39.89600372314453,
          -18.01797103881836,
          -21.145586013793945,
          -66.37979888916016,
          -46.91463088989258,
          -44.85500717163086,
          -2.2823128700256348,
          1.6127734184265137,
          -54.87537384033203,
          0.08423783630132675,
          -55.71146774291992,
          29.15666961669922
         ],
         "z": [
          -44.415557861328125,
          19.28727912902832,
          -1.4544711112976074,
          -20.96204376220703,
          -3.377892255783081,
          13.323040962219238,
          34.08516311645508,
          29.530183792114258,
          57.25740051269531,
          43.1555290222168,
          47.91156768798828,
          33.775455474853516,
          31.42761993408203,
          50.020381927490234,
          50.0511474609375,
          59.483455657958984,
          63.27338409423828,
          54.15035629272461,
          61.407432556152344,
          27.02930450439453,
          38.68159484863281,
          35.28300857543945,
          37.02839279174805,
          -24.297504425048828,
          -45.77491760253906,
          6.447175979614258,
          -4.979457378387451,
          -8.473888397216797,
          -10.557714462280273,
          -32.6812629699707,
          -9.218623161315918,
          49.17740249633789,
          17.281843185424805,
          40.58199691772461,
          3.3124325275421143,
          27.831464767456055,
          41.48557662963867,
          -84.16934967041016,
          24.123462677001953,
          54.21430206298828,
          27.877504348754883,
          24.40269660949707,
          31.726913452148438,
          53.6526985168457,
          -15.294849395751953,
          37.2071647644043,
          -0.29188257455825806,
          -33.53530502319336,
          -40.9326171875,
          -61.360286712646484,
          38.116798400878906,
          61.617469787597656,
          23.107694625854492,
          48.40464782714844,
          55.49302673339844,
          63.68444061279297,
          24.72954750061035,
          74.05693817138672,
          2.8688735961914062,
          16.790325164794922,
          -22.858610153198242,
          22.84552001953125,
          43.998130798339844,
          71.96280670166016,
          54.50177764892578,
          36.88410949707031,
          56.762596130371094,
          -2.483261823654175,
          -15.776266098022461,
          2.2799530029296875,
          -15.318292617797852,
          0.9488281607627869,
          -37.90442657470703,
          -28.237546920776367,
          -19.530250549316406,
          -46.93641662597656,
          -45.082969665527344,
          69.0627670288086,
          -3.0988433361053467,
          29.1243839263916,
          82.07351684570312,
          27.955196380615234,
          75.4870376586914,
          -19.691625595092773,
          -16.48589324951172,
          43.48572540283203,
          25.272693634033203,
          44.890628814697266,
          49.601070404052734,
          8.820619583129883,
          10.477021217346191,
          25.02715492248535,
          55.76233673095703,
          74.22341918945312,
          34.912925720214844,
          -15.955917358398438,
          10.818063735961914,
          -7.009493350982666,
          -56.75232696533203,
          -37.917747497558594,
          -26.301437377929688,
          -26.103979110717773,
          -30.82667350769043,
          -5.767575263977051,
          -24.6071834564209,
          -28.963441848754883,
          -4.289535045623779,
          -70.5687255859375,
          -30.51922607421875,
          -42.011383056640625,
          -53.29717254638672
         ]
        },
        {
         "hovertemplate": "label=0802<br>0=%{x}<br>1=%{y}<br>2=%{z}<extra></extra>",
         "legendgroup": "0802",
         "marker": {
          "color": "#EF553B",
          "size": 6,
          "symbol": "circle"
         },
         "mode": "markers",
         "name": "0802",
         "scene": "scene",
         "showlegend": true,
         "type": "scatter3d",
         "x": [
          19.3915958404541,
          -27.0411434173584,
          -40.929298400878906,
          -45.10075759887695,
          -2.510580539703369,
          20.6307315826416,
          11.563774108886719,
          9.536944389343262,
          0.6222847104072571,
          -14.303768157958984,
          -9.317326545715332,
          42.09880828857422,
          2.1115667819976807,
          14.770179748535156,
          3.047590970993042,
          4.846752166748047,
          -23.35597801208496,
          -41.0931396484375,
          -34.54663848876953,
          -0.24068257212638855,
          20.06557273864746,
          38.403743743896484,
          -21.175447463989258,
          -4.278809547424316,
          -7.786175727844238,
          16.719043731689453,
          76.90919494628906,
          -16.077850341796875,
          51.40858840942383,
          21.767492294311523,
          1.8345144987106323,
          41.26639938354492,
          17.962379455566406,
          72.52667236328125,
          26.209651947021484,
          40.54960632324219,
          53.16096496582031,
          1.2996879816055298,
          2.402754068374634
         ],
         "y": [
          -39.7814826965332,
          -59.6451530456543,
          -46.731075286865234,
          -68.25466918945312,
          -2.737335681915283,
          17.178564071655273,
          -62.77219009399414,
          -79.981689453125,
          -22.161081314086914,
          -14.201202392578125,
          -6.763702392578125,
          -34.6389045715332,
          -28.52556610107422,
          -15.09036922454834,
          -36.07962417602539,
          -45.4948616027832,
          -73.94879913330078,
          -46.36256790161133,
          -68.23123168945312,
          -4.8062920570373535,
          14.365887641906738,
          20.511632919311523,
          -51.103790283203125,
          -59.31173324584961,
          -73.7950668334961,
          -82.64905548095703,
          -4.19246244430542,
          -40.13808059692383,
          17.789487838745117,
          -20.397220611572266,
          -47.74776840209961,
          -3.335237741470337,
          -12.193434715270996,
          5.199434757232666,
          -1.5104345083236694,
          10.460787773132324,
          6.692542552947998,
          -26.247041702270508,
          -51.39573287963867
         ],
         "z": [
          -70.50980377197266,
          19.684558868408203,
          -8.040033340454102,
          6.501928806304932,
          -78.74732208251953,
          -49.01233673095703,
          -9.762964248657227,
          -2.652406692504883,
          -75.3683853149414,
          -11.982365608215332,
          -30.393798828125,
          -68.63252258300781,
          -28.863115310668945,
          -36.46963882446289,
          -11.909296989440918,
          -70.67816925048828,
          14.067299842834473,
          8.229262351989746,
          -5.299271583557129,
          -62.458919525146484,
          -64.9388427734375,
          -64.31523895263672,
          1.2957873344421387,
          8.895798683166504,
          -8.175566673278809,
          -20.229129791259766,
          -40.878238677978516,
          -34.33478546142578,
          -27.55759620666504,
          -63.40863800048828,
          -27.1655330657959,
          -68.62630462646484,
          -81.15169525146484,
          -22.841915130615234,
          -53.66909408569336,
          -46.95267105102539,
          -59.41017150878906,
          -57.456092834472656,
          -52.13794708251953
         ]
        }
       ],
       "layout": {
        "legend": {
         "title": {
          "text": "label"
         },
         "tracegroupgap": 0
        },
        "margin": {
         "t": 60
        },
        "scene": {
         "domain": {
          "x": [
           0,
           1
          ],
          "y": [
           0,
           1
          ]
         },
         "xaxis": {
          "title": {
           "text": "0"
          }
         },
         "yaxis": {
          "title": {
           "text": "1"
          }
         },
         "zaxis": {
          "title": {
           "text": "2"
          }
         }
        },
        "template": {
         "data": {
          "bar": [
           {
            "error_x": {
             "color": "#2a3f5f"
            },
            "error_y": {
             "color": "#2a3f5f"
            },
            "marker": {
             "line": {
              "color": "#E5ECF6",
              "width": 0.5
             },
             "pattern": {
              "fillmode": "overlay",
              "size": 10,
              "solidity": 0.2
             }
            },
            "type": "bar"
           }
          ],
          "barpolar": [
           {
            "marker": {
             "line": {
              "color": "#E5ECF6",
              "width": 0.5
             },
             "pattern": {
              "fillmode": "overlay",
              "size": 10,
              "solidity": 0.2
             }
            },
            "type": "barpolar"
           }
          ],
          "carpet": [
           {
            "aaxis": {
             "endlinecolor": "#2a3f5f",
             "gridcolor": "white",
             "linecolor": "white",
             "minorgridcolor": "white",
             "startlinecolor": "#2a3f5f"
            },
            "baxis": {
             "endlinecolor": "#2a3f5f",
             "gridcolor": "white",
             "linecolor": "white",
             "minorgridcolor": "white",
             "startlinecolor": "#2a3f5f"
            },
            "type": "carpet"
           }
          ],
          "choropleth": [
           {
            "colorbar": {
             "outlinewidth": 0,
             "ticks": ""
            },
            "type": "choropleth"
           }
          ],
          "contour": [
           {
            "colorbar": {
             "outlinewidth": 0,
             "ticks": ""
            },
            "colorscale": [
             [
              0,
              "#0d0887"
             ],
             [
              0.1111111111111111,
              "#46039f"
             ],
             [
              0.2222222222222222,
              "#7201a8"
             ],
             [
              0.3333333333333333,
              "#9c179e"
             ],
             [
              0.4444444444444444,
              "#bd3786"
             ],
             [
              0.5555555555555556,
              "#d8576b"
             ],
             [
              0.6666666666666666,
              "#ed7953"
             ],
             [
              0.7777777777777778,
              "#fb9f3a"
             ],
             [
              0.8888888888888888,
              "#fdca26"
             ],
             [
              1,
              "#f0f921"
             ]
            ],
            "type": "contour"
           }
          ],
          "contourcarpet": [
           {
            "colorbar": {
             "outlinewidth": 0,
             "ticks": ""
            },
            "type": "contourcarpet"
           }
          ],
          "heatmap": [
           {
            "colorbar": {
             "outlinewidth": 0,
             "ticks": ""
            },
            "colorscale": [
             [
              0,
              "#0d0887"
             ],
             [
              0.1111111111111111,
              "#46039f"
             ],
             [
              0.2222222222222222,
              "#7201a8"
             ],
             [
              0.3333333333333333,
              "#9c179e"
             ],
             [
              0.4444444444444444,
              "#bd3786"
             ],
             [
              0.5555555555555556,
              "#d8576b"
             ],
             [
              0.6666666666666666,
              "#ed7953"
             ],
             [
              0.7777777777777778,
              "#fb9f3a"
             ],
             [
              0.8888888888888888,
              "#fdca26"
             ],
             [
              1,
              "#f0f921"
             ]
            ],
            "type": "heatmap"
           }
          ],
          "heatmapgl": [
           {
            "colorbar": {
             "outlinewidth": 0,
             "ticks": ""
            },
            "colorscale": [
             [
              0,
              "#0d0887"
             ],
             [
              0.1111111111111111,
              "#46039f"
             ],
             [
              0.2222222222222222,
              "#7201a8"
             ],
             [
              0.3333333333333333,
              "#9c179e"
             ],
             [
              0.4444444444444444,
              "#bd3786"
             ],
             [
              0.5555555555555556,
              "#d8576b"
             ],
             [
              0.6666666666666666,
              "#ed7953"
             ],
             [
              0.7777777777777778,
              "#fb9f3a"
             ],
             [
              0.8888888888888888,
              "#fdca26"
             ],
             [
              1,
              "#f0f921"
             ]
            ],
            "type": "heatmapgl"
           }
          ],
          "histogram": [
           {
            "marker": {
             "pattern": {
              "fillmode": "overlay",
              "size": 10,
              "solidity": 0.2
             }
            },
            "type": "histogram"
           }
          ],
          "histogram2d": [
           {
            "colorbar": {
             "outlinewidth": 0,
             "ticks": ""
            },
            "colorscale": [
             [
              0,
              "#0d0887"
             ],
             [
              0.1111111111111111,
              "#46039f"
             ],
             [
              0.2222222222222222,
              "#7201a8"
             ],
             [
              0.3333333333333333,
              "#9c179e"
             ],
             [
              0.4444444444444444,
              "#bd3786"
             ],
             [
              0.5555555555555556,
              "#d8576b"
             ],
             [
              0.6666666666666666,
              "#ed7953"
             ],
             [
              0.7777777777777778,
              "#fb9f3a"
             ],
             [
              0.8888888888888888,
              "#fdca26"
             ],
             [
              1,
              "#f0f921"
             ]
            ],
            "type": "histogram2d"
           }
          ],
          "histogram2dcontour": [
           {
            "colorbar": {
             "outlinewidth": 0,
             "ticks": ""
            },
            "colorscale": [
             [
              0,
              "#0d0887"
             ],
             [
              0.1111111111111111,
              "#46039f"
             ],
             [
              0.2222222222222222,
              "#7201a8"
             ],
             [
              0.3333333333333333,
              "#9c179e"
             ],
             [
              0.4444444444444444,
              "#bd3786"
             ],
             [
              0.5555555555555556,
              "#d8576b"
             ],
             [
              0.6666666666666666,
              "#ed7953"
             ],
             [
              0.7777777777777778,
              "#fb9f3a"
             ],
             [
              0.8888888888888888,
              "#fdca26"
             ],
             [
              1,
              "#f0f921"
             ]
            ],
            "type": "histogram2dcontour"
           }
          ],
          "mesh3d": [
           {
            "colorbar": {
             "outlinewidth": 0,
             "ticks": ""
            },
            "type": "mesh3d"
           }
          ],
          "parcoords": [
           {
            "line": {
             "colorbar": {
              "outlinewidth": 0,
              "ticks": ""
             }
            },
            "type": "parcoords"
           }
          ],
          "pie": [
           {
            "automargin": true,
            "type": "pie"
           }
          ],
          "scatter": [
           {
            "fillpattern": {
             "fillmode": "overlay",
             "size": 10,
             "solidity": 0.2
            },
            "type": "scatter"
           }
          ],
          "scatter3d": [
           {
            "line": {
             "colorbar": {
              "outlinewidth": 0,
              "ticks": ""
             }
            },
            "marker": {
             "colorbar": {
              "outlinewidth": 0,
              "ticks": ""
             }
            },
            "type": "scatter3d"
           }
          ],
          "scattercarpet": [
           {
            "marker": {
             "colorbar": {
              "outlinewidth": 0,
              "ticks": ""
             }
            },
            "type": "scattercarpet"
           }
          ],
          "scattergeo": [
           {
            "marker": {
             "colorbar": {
              "outlinewidth": 0,
              "ticks": ""
             }
            },
            "type": "scattergeo"
           }
          ],
          "scattergl": [
           {
            "marker": {
             "colorbar": {
              "outlinewidth": 0,
              "ticks": ""
             }
            },
            "type": "scattergl"
           }
          ],
          "scattermapbox": [
           {
            "marker": {
             "colorbar": {
              "outlinewidth": 0,
              "ticks": ""
             }
            },
            "type": "scattermapbox"
           }
          ],
          "scatterpolar": [
           {
            "marker": {
             "colorbar": {
              "outlinewidth": 0,
              "ticks": ""
             }
            },
            "type": "scatterpolar"
           }
          ],
          "scatterpolargl": [
           {
            "marker": {
             "colorbar": {
              "outlinewidth": 0,
              "ticks": ""
             }
            },
            "type": "scatterpolargl"
           }
          ],
          "scatterternary": [
           {
            "marker": {
             "colorbar": {
              "outlinewidth": 0,
              "ticks": ""
             }
            },
            "type": "scatterternary"
           }
          ],
          "surface": [
           {
            "colorbar": {
             "outlinewidth": 0,
             "ticks": ""
            },
            "colorscale": [
             [
              0,
              "#0d0887"
             ],
             [
              0.1111111111111111,
              "#46039f"
             ],
             [
              0.2222222222222222,
              "#7201a8"
             ],
             [
              0.3333333333333333,
              "#9c179e"
             ],
             [
              0.4444444444444444,
              "#bd3786"
             ],
             [
              0.5555555555555556,
              "#d8576b"
             ],
             [
              0.6666666666666666,
              "#ed7953"
             ],
             [
              0.7777777777777778,
              "#fb9f3a"
             ],
             [
              0.8888888888888888,
              "#fdca26"
             ],
             [
              1,
              "#f0f921"
             ]
            ],
            "type": "surface"
           }
          ],
          "table": [
           {
            "cells": {
             "fill": {
              "color": "#EBF0F8"
             },
             "line": {
              "color": "white"
             }
            },
            "header": {
             "fill": {
              "color": "#C8D4E3"
             },
             "line": {
              "color": "white"
             }
            },
            "type": "table"
           }
          ]
         },
         "layout": {
          "annotationdefaults": {
           "arrowcolor": "#2a3f5f",
           "arrowhead": 0,
           "arrowwidth": 1
          },
          "autotypenumbers": "strict",
          "coloraxis": {
           "colorbar": {
            "outlinewidth": 0,
            "ticks": ""
           }
          },
          "colorscale": {
           "diverging": [
            [
             0,
             "#8e0152"
            ],
            [
             0.1,
             "#c51b7d"
            ],
            [
             0.2,
             "#de77ae"
            ],
            [
             0.3,
             "#f1b6da"
            ],
            [
             0.4,
             "#fde0ef"
            ],
            [
             0.5,
             "#f7f7f7"
            ],
            [
             0.6,
             "#e6f5d0"
            ],
            [
             0.7,
             "#b8e186"
            ],
            [
             0.8,
             "#7fbc41"
            ],
            [
             0.9,
             "#4d9221"
            ],
            [
             1,
             "#276419"
            ]
           ],
           "sequential": [
            [
             0,
             "#0d0887"
            ],
            [
             0.1111111111111111,
             "#46039f"
            ],
            [
             0.2222222222222222,
             "#7201a8"
            ],
            [
             0.3333333333333333,
             "#9c179e"
            ],
            [
             0.4444444444444444,
             "#bd3786"
            ],
            [
             0.5555555555555556,
             "#d8576b"
            ],
            [
             0.6666666666666666,
             "#ed7953"
            ],
            [
             0.7777777777777778,
             "#fb9f3a"
            ],
            [
             0.8888888888888888,
             "#fdca26"
            ],
            [
             1,
             "#f0f921"
            ]
           ],
           "sequentialminus": [
            [
             0,
             "#0d0887"
            ],
            [
             0.1111111111111111,
             "#46039f"
            ],
            [
             0.2222222222222222,
             "#7201a8"
            ],
            [
             0.3333333333333333,
             "#9c179e"
            ],
            [
             0.4444444444444444,
             "#bd3786"
            ],
            [
             0.5555555555555556,
             "#d8576b"
            ],
            [
             0.6666666666666666,
             "#ed7953"
            ],
            [
             0.7777777777777778,
             "#fb9f3a"
            ],
            [
             0.8888888888888888,
             "#fdca26"
            ],
            [
             1,
             "#f0f921"
            ]
           ]
          },
          "colorway": [
           "#636efa",
           "#EF553B",
           "#00cc96",
           "#ab63fa",
           "#FFA15A",
           "#19d3f3",
           "#FF6692",
           "#B6E880",
           "#FF97FF",
           "#FECB52"
          ],
          "font": {
           "color": "#2a3f5f"
          },
          "geo": {
           "bgcolor": "white",
           "lakecolor": "white",
           "landcolor": "#E5ECF6",
           "showlakes": true,
           "showland": true,
           "subunitcolor": "white"
          },
          "hoverlabel": {
           "align": "left"
          },
          "hovermode": "closest",
          "mapbox": {
           "style": "light"
          },
          "paper_bgcolor": "white",
          "plot_bgcolor": "#E5ECF6",
          "polar": {
           "angularaxis": {
            "gridcolor": "white",
            "linecolor": "white",
            "ticks": ""
           },
           "bgcolor": "#E5ECF6",
           "radialaxis": {
            "gridcolor": "white",
            "linecolor": "white",
            "ticks": ""
           }
          },
          "scene": {
           "xaxis": {
            "backgroundcolor": "#E5ECF6",
            "gridcolor": "white",
            "gridwidth": 2,
            "linecolor": "white",
            "showbackground": true,
            "ticks": "",
            "zerolinecolor": "white"
           },
           "yaxis": {
            "backgroundcolor": "#E5ECF6",
            "gridcolor": "white",
            "gridwidth": 2,
            "linecolor": "white",
            "showbackground": true,
            "ticks": "",
            "zerolinecolor": "white"
           },
           "zaxis": {
            "backgroundcolor": "#E5ECF6",
            "gridcolor": "white",
            "gridwidth": 2,
            "linecolor": "white",
            "showbackground": true,
            "ticks": "",
            "zerolinecolor": "white"
           }
          },
          "shapedefaults": {
           "line": {
            "color": "#2a3f5f"
           }
          },
          "ternary": {
           "aaxis": {
            "gridcolor": "white",
            "linecolor": "white",
            "ticks": ""
           },
           "baxis": {
            "gridcolor": "white",
            "linecolor": "white",
            "ticks": ""
           },
           "bgcolor": "#E5ECF6",
           "caxis": {
            "gridcolor": "white",
            "linecolor": "white",
            "ticks": ""
           }
          },
          "title": {
           "x": 0.05
          },
          "xaxis": {
           "automargin": true,
           "gridcolor": "white",
           "linecolor": "white",
           "ticks": "",
           "title": {
            "standoff": 15
           },
           "zerolinecolor": "white",
           "zerolinewidth": 2
          },
          "yaxis": {
           "automargin": true,
           "gridcolor": "white",
           "linecolor": "white",
           "ticks": "",
           "title": {
            "standoff": 15
           },
           "zerolinecolor": "white",
           "zerolinewidth": 2
          }
         }
        }
       }
      },
      "text/html": [
       "<div>                            <div id=\"b4453173-1ce0-4abd-baaf-8a3a17f903f9\" class=\"plotly-graph-div\" style=\"height:525px; width:100%;\"></div>            <script type=\"text/javascript\">                require([\"plotly\"], function(Plotly) {                    window.PLOTLYENV=window.PLOTLYENV || {};                                    if (document.getElementById(\"b4453173-1ce0-4abd-baaf-8a3a17f903f9\")) {                    Plotly.newPlot(                        \"b4453173-1ce0-4abd-baaf-8a3a17f903f9\",                        [{\"hovertemplate\":\"label=c101\\u003cbr\\u003e0=%{x}\\u003cbr\\u003e1=%{y}\\u003cbr\\u003e2=%{z}\\u003cextra\\u003e\\u003c\\u002fextra\\u003e\",\"legendgroup\":\"c101\",\"marker\":{\"color\":\"#636efa\",\"symbol\":\"circle\",\"size\":6},\"mode\":\"markers\",\"name\":\"c101\",\"scene\":\"scene\",\"showlegend\":true,\"x\":[39.347755432128906,-52.124366760253906,9.939412117004395,-52.87668228149414,-53.476016998291016,-70.66264343261719,-36.25947189331055,55.07368469238281,-22.049543380737305,-14.328873634338379,48.742740631103516,-57.717262268066406,41.34416961669922,-20.221115112304688,-15.599498748779297,-5.067871570587158,-0.32427433133125305,-30.155702590942383,-0.4116746187210083,-15.96026611328125,18.24798583984375,-5.395753860473633,-18.080101013183594,13.110998153686523,47.43682098388672,-20.300840377807617,20.2304630279541,-29.5979061126709,49.7620735168457,-1.197956919670105,-52.81517028808594,39.93718338012695,35.560359954833984,7.149831295013428,47.37180709838867,-32.720062255859375,37.07539749145508,-32.55857849121094,16.55718421936035,-1.9960050582885742,33.855995178222656,48.97214126586914,18.723873138427734,21.16741180419922,-24.47594451904297,-2.066375494003296,-42.210121154785156,-23.9066219329834,-29.658681869506836,-23.76583480834961,-58.306949615478516,-34.54082107543945,-10.10810375213623,-48.18069839477539,-0.913229763507843,-17.364028930664062,-58.73958206176758,-7.644984722137451,-3.3964710235595703,11.352229118347168,10.788178443908691,3.2342634201049805,0.009046543389558792,-21.072465896606445,-41.41649627685547,-38.740482330322266,-34.38407897949219,-8.156426429748535,3.3848936557769775,3.2490603923797607,-12.39005184173584,-21.515840530395508,-11.900677680969238,-37.714847564697266,-15.122382164001465,17.58218765258789,-34.4166259765625,-22.86931610107422,21.99430274963379,-27.2744197845459,-3.975973606109619,-22.179521560668945,-44.40888977050781,-30.95342445373535,-4.177004814147949,-31.113794326782227,-35.344112396240234,-16.751502990722656,-52.1362419128418,-58.060787200927734,45.003787994384766,52.294395446777344,21.728580474853516,22.64325714111328,-80.53791809082031,-68.42164611816406,46.23016357421875,36.62083053588867,-19.619035720825195,53.95136260986328,40.54927444458008,56.93644714355469,3.886101245880127,21.974170684814453,24.25929069519043,30.15790557861328,-26.221994400024414,39.95491027832031,53.1487922668457,23.608898162841797,54.094947814941406],\"y\":[-34.96403884887695,1.1517733335494995,-7.22715425491333,49.52675247192383,39.5497932434082,13.29626178741455,-6.9406280517578125,1.2834397554397583,13.095572471618652,-32.92353439331055,14.54885196685791,-10.92214584350586,11.905098915100098,-10.336024284362793,34.00066375732422,-26.357589721679688,41.480777740478516,-26.148937225341797,64.41403198242188,-15.962879180908203,-35.3405647277832,-3.632117509841919,14.334348678588867,39.40224838256836,-13.041346549987793,19.927698135375977,58.555999755859375,22.694393157958984,-2.761878490447998,22.892751693725586,15.415190696716309,-30.18726921081543,-6.6547465324401855,9.091139793395996,-37.111812591552734,19.79515838623047,-12.988165855407715,-24.57048988342285,35.59567642211914,-1.459659218788147,-27.586807250976562,-18.173397064208984,-14.979751586914062,-19.027965545654297,52.340476989746094,26.78522491455078,50.970176696777344,28.417516708374023,57.23258972167969,-10.505606651306152,12.961461067199707,38.903804779052734,64.8619613647461,25.32789421081543,19.833209991455078,55.863773345947266,38.45869064331055,13.433574676513672,26.151386260986328,14.227794647216797,58.76373291015625,-31.18805503845215,49.47728729248047,29.64851188659668,-8.245890617370605,-28.700029373168945,65.31045532226562,2.7307515144348145,8.606609344482422,50.293209075927734,36.33348846435547,45.40553283691406,41.72121810913086,11.285529136657715,12.90921401977539,-36.94639205932617,-21.066743850708008,-6.786641597747803,40.03691864013672,79.7890396118164,41.312477111816406,40.23244094848633,23.844219207763672,36.93617630004883,64.82950592041016,51.197349548339844,58.160152435302734,65.43701171875,53.11726760864258,-12.014570236206055,45.847259521484375,33.92477035522461,27.992881774902344,27.259178161621094,-1.8502172231674194,-20.864604949951172,28.731067657470703,-60.1948127746582,-26.149627685546875,-39.89600372314453,-18.01797103881836,-21.145586013793945,-66.37979888916016,-46.91463088989258,-44.85500717163086,-2.2823128700256348,1.6127734184265137,-54.87537384033203,0.08423783630132675,-55.71146774291992,29.15666961669922],\"z\":[-44.415557861328125,19.28727912902832,-1.4544711112976074,-20.96204376220703,-3.377892255783081,13.323040962219238,34.08516311645508,29.530183792114258,57.25740051269531,43.1555290222168,47.91156768798828,33.775455474853516,31.42761993408203,50.020381927490234,50.0511474609375,59.483455657958984,63.27338409423828,54.15035629272461,61.407432556152344,27.02930450439453,38.68159484863281,35.28300857543945,37.02839279174805,-24.297504425048828,-45.77491760253906,6.447175979614258,-4.979457378387451,-8.473888397216797,-10.557714462280273,-32.6812629699707,-9.218623161315918,49.17740249633789,17.281843185424805,40.58199691772461,3.3124325275421143,27.831464767456055,41.48557662963867,-84.16934967041016,24.123462677001953,54.21430206298828,27.877504348754883,24.40269660949707,31.726913452148438,53.6526985168457,-15.294849395751953,37.2071647644043,-0.29188257455825806,-33.53530502319336,-40.9326171875,-61.360286712646484,38.116798400878906,61.617469787597656,23.107694625854492,48.40464782714844,55.49302673339844,63.68444061279297,24.72954750061035,74.05693817138672,2.8688735961914062,16.790325164794922,-22.858610153198242,22.84552001953125,43.998130798339844,71.96280670166016,54.50177764892578,36.88410949707031,56.762596130371094,-2.483261823654175,-15.776266098022461,2.2799530029296875,-15.318292617797852,0.9488281607627869,-37.90442657470703,-28.237546920776367,-19.530250549316406,-46.93641662597656,-45.082969665527344,69.0627670288086,-3.0988433361053467,29.1243839263916,82.07351684570312,27.955196380615234,75.4870376586914,-19.691625595092773,-16.48589324951172,43.48572540283203,25.272693634033203,44.890628814697266,49.601070404052734,8.820619583129883,10.477021217346191,25.02715492248535,55.76233673095703,74.22341918945312,34.912925720214844,-15.955917358398438,10.818063735961914,-7.009493350982666,-56.75232696533203,-37.917747497558594,-26.301437377929688,-26.103979110717773,-30.82667350769043,-5.767575263977051,-24.6071834564209,-28.963441848754883,-4.289535045623779,-70.5687255859375,-30.51922607421875,-42.011383056640625,-53.29717254638672],\"type\":\"scatter3d\"},{\"hovertemplate\":\"label=0802\\u003cbr\\u003e0=%{x}\\u003cbr\\u003e1=%{y}\\u003cbr\\u003e2=%{z}\\u003cextra\\u003e\\u003c\\u002fextra\\u003e\",\"legendgroup\":\"0802\",\"marker\":{\"color\":\"#EF553B\",\"symbol\":\"circle\",\"size\":6},\"mode\":\"markers\",\"name\":\"0802\",\"scene\":\"scene\",\"showlegend\":true,\"x\":[19.3915958404541,-27.0411434173584,-40.929298400878906,-45.10075759887695,-2.510580539703369,20.6307315826416,11.563774108886719,9.536944389343262,0.6222847104072571,-14.303768157958984,-9.317326545715332,42.09880828857422,2.1115667819976807,14.770179748535156,3.047590970993042,4.846752166748047,-23.35597801208496,-41.0931396484375,-34.54663848876953,-0.24068257212638855,20.06557273864746,38.403743743896484,-21.175447463989258,-4.278809547424316,-7.786175727844238,16.719043731689453,76.90919494628906,-16.077850341796875,51.40858840942383,21.767492294311523,1.8345144987106323,41.26639938354492,17.962379455566406,72.52667236328125,26.209651947021484,40.54960632324219,53.16096496582031,1.2996879816055298,2.402754068374634],\"y\":[-39.7814826965332,-59.6451530456543,-46.731075286865234,-68.25466918945312,-2.737335681915283,17.178564071655273,-62.77219009399414,-79.981689453125,-22.161081314086914,-14.201202392578125,-6.763702392578125,-34.6389045715332,-28.52556610107422,-15.09036922454834,-36.07962417602539,-45.4948616027832,-73.94879913330078,-46.36256790161133,-68.23123168945312,-4.8062920570373535,14.365887641906738,20.511632919311523,-51.103790283203125,-59.31173324584961,-73.7950668334961,-82.64905548095703,-4.19246244430542,-40.13808059692383,17.789487838745117,-20.397220611572266,-47.74776840209961,-3.335237741470337,-12.193434715270996,5.199434757232666,-1.5104345083236694,10.460787773132324,6.692542552947998,-26.247041702270508,-51.39573287963867],\"z\":[-70.50980377197266,19.684558868408203,-8.040033340454102,6.501928806304932,-78.74732208251953,-49.01233673095703,-9.762964248657227,-2.652406692504883,-75.3683853149414,-11.982365608215332,-30.393798828125,-68.63252258300781,-28.863115310668945,-36.46963882446289,-11.909296989440918,-70.67816925048828,14.067299842834473,8.229262351989746,-5.299271583557129,-62.458919525146484,-64.9388427734375,-64.31523895263672,1.2957873344421387,8.895798683166504,-8.175566673278809,-20.229129791259766,-40.878238677978516,-34.33478546142578,-27.55759620666504,-63.40863800048828,-27.1655330657959,-68.62630462646484,-81.15169525146484,-22.841915130615234,-53.66909408569336,-46.95267105102539,-59.41017150878906,-57.456092834472656,-52.13794708251953],\"type\":\"scatter3d\"}],                        {\"template\":{\"data\":{\"histogram2dcontour\":[{\"type\":\"histogram2dcontour\",\"colorbar\":{\"outlinewidth\":0,\"ticks\":\"\"},\"colorscale\":[[0.0,\"#0d0887\"],[0.1111111111111111,\"#46039f\"],[0.2222222222222222,\"#7201a8\"],[0.3333333333333333,\"#9c179e\"],[0.4444444444444444,\"#bd3786\"],[0.5555555555555556,\"#d8576b\"],[0.6666666666666666,\"#ed7953\"],[0.7777777777777778,\"#fb9f3a\"],[0.8888888888888888,\"#fdca26\"],[1.0,\"#f0f921\"]]}],\"choropleth\":[{\"type\":\"choropleth\",\"colorbar\":{\"outlinewidth\":0,\"ticks\":\"\"}}],\"histogram2d\":[{\"type\":\"histogram2d\",\"colorbar\":{\"outlinewidth\":0,\"ticks\":\"\"},\"colorscale\":[[0.0,\"#0d0887\"],[0.1111111111111111,\"#46039f\"],[0.2222222222222222,\"#7201a8\"],[0.3333333333333333,\"#9c179e\"],[0.4444444444444444,\"#bd3786\"],[0.5555555555555556,\"#d8576b\"],[0.6666666666666666,\"#ed7953\"],[0.7777777777777778,\"#fb9f3a\"],[0.8888888888888888,\"#fdca26\"],[1.0,\"#f0f921\"]]}],\"heatmap\":[{\"type\":\"heatmap\",\"colorbar\":{\"outlinewidth\":0,\"ticks\":\"\"},\"colorscale\":[[0.0,\"#0d0887\"],[0.1111111111111111,\"#46039f\"],[0.2222222222222222,\"#7201a8\"],[0.3333333333333333,\"#9c179e\"],[0.4444444444444444,\"#bd3786\"],[0.5555555555555556,\"#d8576b\"],[0.6666666666666666,\"#ed7953\"],[0.7777777777777778,\"#fb9f3a\"],[0.8888888888888888,\"#fdca26\"],[1.0,\"#f0f921\"]]}],\"heatmapgl\":[{\"type\":\"heatmapgl\",\"colorbar\":{\"outlinewidth\":0,\"ticks\":\"\"},\"colorscale\":[[0.0,\"#0d0887\"],[0.1111111111111111,\"#46039f\"],[0.2222222222222222,\"#7201a8\"],[0.3333333333333333,\"#9c179e\"],[0.4444444444444444,\"#bd3786\"],[0.5555555555555556,\"#d8576b\"],[0.6666666666666666,\"#ed7953\"],[0.7777777777777778,\"#fb9f3a\"],[0.8888888888888888,\"#fdca26\"],[1.0,\"#f0f921\"]]}],\"contourcarpet\":[{\"type\":\"contourcarpet\",\"colorbar\":{\"outlinewidth\":0,\"ticks\":\"\"}}],\"contour\":[{\"type\":\"contour\",\"colorbar\":{\"outlinewidth\":0,\"ticks\":\"\"},\"colorscale\":[[0.0,\"#0d0887\"],[0.1111111111111111,\"#46039f\"],[0.2222222222222222,\"#7201a8\"],[0.3333333333333333,\"#9c179e\"],[0.4444444444444444,\"#bd3786\"],[0.5555555555555556,\"#d8576b\"],[0.6666666666666666,\"#ed7953\"],[0.7777777777777778,\"#fb9f3a\"],[0.8888888888888888,\"#fdca26\"],[1.0,\"#f0f921\"]]}],\"surface\":[{\"type\":\"surface\",\"colorbar\":{\"outlinewidth\":0,\"ticks\":\"\"},\"colorscale\":[[0.0,\"#0d0887\"],[0.1111111111111111,\"#46039f\"],[0.2222222222222222,\"#7201a8\"],[0.3333333333333333,\"#9c179e\"],[0.4444444444444444,\"#bd3786\"],[0.5555555555555556,\"#d8576b\"],[0.6666666666666666,\"#ed7953\"],[0.7777777777777778,\"#fb9f3a\"],[0.8888888888888888,\"#fdca26\"],[1.0,\"#f0f921\"]]}],\"mesh3d\":[{\"type\":\"mesh3d\",\"colorbar\":{\"outlinewidth\":0,\"ticks\":\"\"}}],\"scatter\":[{\"fillpattern\":{\"fillmode\":\"overlay\",\"size\":10,\"solidity\":0.2},\"type\":\"scatter\"}],\"parcoords\":[{\"type\":\"parcoords\",\"line\":{\"colorbar\":{\"outlinewidth\":0,\"ticks\":\"\"}}}],\"scatterpolargl\":[{\"type\":\"scatterpolargl\",\"marker\":{\"colorbar\":{\"outlinewidth\":0,\"ticks\":\"\"}}}],\"bar\":[{\"error_x\":{\"color\":\"#2a3f5f\"},\"error_y\":{\"color\":\"#2a3f5f\"},\"marker\":{\"line\":{\"color\":\"#E5ECF6\",\"width\":0.5},\"pattern\":{\"fillmode\":\"overlay\",\"size\":10,\"solidity\":0.2}},\"type\":\"bar\"}],\"scattergeo\":[{\"type\":\"scattergeo\",\"marker\":{\"colorbar\":{\"outlinewidth\":0,\"ticks\":\"\"}}}],\"scatterpolar\":[{\"type\":\"scatterpolar\",\"marker\":{\"colorbar\":{\"outlinewidth\":0,\"ticks\":\"\"}}}],\"histogram\":[{\"marker\":{\"pattern\":{\"fillmode\":\"overlay\",\"size\":10,\"solidity\":0.2}},\"type\":\"histogram\"}],\"scattergl\":[{\"type\":\"scattergl\",\"marker\":{\"colorbar\":{\"outlinewidth\":0,\"ticks\":\"\"}}}],\"scatter3d\":[{\"type\":\"scatter3d\",\"line\":{\"colorbar\":{\"outlinewidth\":0,\"ticks\":\"\"}},\"marker\":{\"colorbar\":{\"outlinewidth\":0,\"ticks\":\"\"}}}],\"scattermapbox\":[{\"type\":\"scattermapbox\",\"marker\":{\"colorbar\":{\"outlinewidth\":0,\"ticks\":\"\"}}}],\"scatterternary\":[{\"type\":\"scatterternary\",\"marker\":{\"colorbar\":{\"outlinewidth\":0,\"ticks\":\"\"}}}],\"scattercarpet\":[{\"type\":\"scattercarpet\",\"marker\":{\"colorbar\":{\"outlinewidth\":0,\"ticks\":\"\"}}}],\"carpet\":[{\"aaxis\":{\"endlinecolor\":\"#2a3f5f\",\"gridcolor\":\"white\",\"linecolor\":\"white\",\"minorgridcolor\":\"white\",\"startlinecolor\":\"#2a3f5f\"},\"baxis\":{\"endlinecolor\":\"#2a3f5f\",\"gridcolor\":\"white\",\"linecolor\":\"white\",\"minorgridcolor\":\"white\",\"startlinecolor\":\"#2a3f5f\"},\"type\":\"carpet\"}],\"table\":[{\"cells\":{\"fill\":{\"color\":\"#EBF0F8\"},\"line\":{\"color\":\"white\"}},\"header\":{\"fill\":{\"color\":\"#C8D4E3\"},\"line\":{\"color\":\"white\"}},\"type\":\"table\"}],\"barpolar\":[{\"marker\":{\"line\":{\"color\":\"#E5ECF6\",\"width\":0.5},\"pattern\":{\"fillmode\":\"overlay\",\"size\":10,\"solidity\":0.2}},\"type\":\"barpolar\"}],\"pie\":[{\"automargin\":true,\"type\":\"pie\"}]},\"layout\":{\"autotypenumbers\":\"strict\",\"colorway\":[\"#636efa\",\"#EF553B\",\"#00cc96\",\"#ab63fa\",\"#FFA15A\",\"#19d3f3\",\"#FF6692\",\"#B6E880\",\"#FF97FF\",\"#FECB52\"],\"font\":{\"color\":\"#2a3f5f\"},\"hovermode\":\"closest\",\"hoverlabel\":{\"align\":\"left\"},\"paper_bgcolor\":\"white\",\"plot_bgcolor\":\"#E5ECF6\",\"polar\":{\"bgcolor\":\"#E5ECF6\",\"angularaxis\":{\"gridcolor\":\"white\",\"linecolor\":\"white\",\"ticks\":\"\"},\"radialaxis\":{\"gridcolor\":\"white\",\"linecolor\":\"white\",\"ticks\":\"\"}},\"ternary\":{\"bgcolor\":\"#E5ECF6\",\"aaxis\":{\"gridcolor\":\"white\",\"linecolor\":\"white\",\"ticks\":\"\"},\"baxis\":{\"gridcolor\":\"white\",\"linecolor\":\"white\",\"ticks\":\"\"},\"caxis\":{\"gridcolor\":\"white\",\"linecolor\":\"white\",\"ticks\":\"\"}},\"coloraxis\":{\"colorbar\":{\"outlinewidth\":0,\"ticks\":\"\"}},\"colorscale\":{\"sequential\":[[0.0,\"#0d0887\"],[0.1111111111111111,\"#46039f\"],[0.2222222222222222,\"#7201a8\"],[0.3333333333333333,\"#9c179e\"],[0.4444444444444444,\"#bd3786\"],[0.5555555555555556,\"#d8576b\"],[0.6666666666666666,\"#ed7953\"],[0.7777777777777778,\"#fb9f3a\"],[0.8888888888888888,\"#fdca26\"],[1.0,\"#f0f921\"]],\"sequentialminus\":[[0.0,\"#0d0887\"],[0.1111111111111111,\"#46039f\"],[0.2222222222222222,\"#7201a8\"],[0.3333333333333333,\"#9c179e\"],[0.4444444444444444,\"#bd3786\"],[0.5555555555555556,\"#d8576b\"],[0.6666666666666666,\"#ed7953\"],[0.7777777777777778,\"#fb9f3a\"],[0.8888888888888888,\"#fdca26\"],[1.0,\"#f0f921\"]],\"diverging\":[[0,\"#8e0152\"],[0.1,\"#c51b7d\"],[0.2,\"#de77ae\"],[0.3,\"#f1b6da\"],[0.4,\"#fde0ef\"],[0.5,\"#f7f7f7\"],[0.6,\"#e6f5d0\"],[0.7,\"#b8e186\"],[0.8,\"#7fbc41\"],[0.9,\"#4d9221\"],[1,\"#276419\"]]},\"xaxis\":{\"gridcolor\":\"white\",\"linecolor\":\"white\",\"ticks\":\"\",\"title\":{\"standoff\":15},\"zerolinecolor\":\"white\",\"automargin\":true,\"zerolinewidth\":2},\"yaxis\":{\"gridcolor\":\"white\",\"linecolor\":\"white\",\"ticks\":\"\",\"title\":{\"standoff\":15},\"zerolinecolor\":\"white\",\"automargin\":true,\"zerolinewidth\":2},\"scene\":{\"xaxis\":{\"backgroundcolor\":\"#E5ECF6\",\"gridcolor\":\"white\",\"linecolor\":\"white\",\"showbackground\":true,\"ticks\":\"\",\"zerolinecolor\":\"white\",\"gridwidth\":2},\"yaxis\":{\"backgroundcolor\":\"#E5ECF6\",\"gridcolor\":\"white\",\"linecolor\":\"white\",\"showbackground\":true,\"ticks\":\"\",\"zerolinecolor\":\"white\",\"gridwidth\":2},\"zaxis\":{\"backgroundcolor\":\"#E5ECF6\",\"gridcolor\":\"white\",\"linecolor\":\"white\",\"showbackground\":true,\"ticks\":\"\",\"zerolinecolor\":\"white\",\"gridwidth\":2}},\"shapedefaults\":{\"line\":{\"color\":\"#2a3f5f\"}},\"annotationdefaults\":{\"arrowcolor\":\"#2a3f5f\",\"arrowhead\":0,\"arrowwidth\":1},\"geo\":{\"bgcolor\":\"white\",\"landcolor\":\"#E5ECF6\",\"subunitcolor\":\"white\",\"showland\":true,\"showlakes\":true,\"lakecolor\":\"white\"},\"title\":{\"x\":0.05},\"mapbox\":{\"style\":\"light\"}}},\"scene\":{\"domain\":{\"x\":[0.0,1.0],\"y\":[0.0,1.0]},\"xaxis\":{\"title\":{\"text\":\"0\"}},\"yaxis\":{\"title\":{\"text\":\"1\"}},\"zaxis\":{\"title\":{\"text\":\"2\"}}},\"legend\":{\"title\":{\"text\":\"label\"},\"tracegroupgap\":0},\"margin\":{\"t\":60}},                        {\"responsive\": true}                    ).then(function(){\n",
       "                            \n",
       "var gd = document.getElementById('b4453173-1ce0-4abd-baaf-8a3a17f903f9');\n",
       "var x = new MutationObserver(function (mutations, observer) {{\n",
       "        var display = window.getComputedStyle(gd).display;\n",
       "        if (!display || display === 'none') {{\n",
       "            console.log([gd, 'removed!']);\n",
       "            Plotly.purge(gd);\n",
       "            observer.disconnect();\n",
       "        }}\n",
       "}});\n",
       "\n",
       "// Listen for the removal of the full notebook cells\n",
       "var notebookContainer = gd.closest('#notebook-container');\n",
       "if (notebookContainer) {{\n",
       "    x.observe(notebookContainer, {childList: true});\n",
       "}}\n",
       "\n",
       "// Listen for the clearing of the current output cell\n",
       "var outputEl = gd.closest('.output');\n",
       "if (outputEl) {{\n",
       "    x.observe(outputEl, {childList: true});\n",
       "}}\n",
       "\n",
       "                        })                };                });            </script>        </div>"
      ]
     },
     "metadata": {},
     "output_type": "display_data"
    }
   ],
   "source": [
    "tsne = sklearn.manifold.TSNE(n_components=3, init='pca')\n",
    "all_embedded = tsne.fit_transform(all_features)\n",
    "\n",
    "fig = px.scatter_3d(\n",
    "    all_embedded, x=0, y=1, z=2,\n",
    "    color=df_all.label, labels={'color': 'label'}\n",
    ")\n",
    "fig.update_traces(marker_size=6)\n",
    "fig.show()"
   ]
  },
  {
   "cell_type": "code",
   "execution_count": null,
   "id": "420b0740",
   "metadata": {},
   "outputs": [],
   "source": [
    "tsne = sklearn.manifold.TSNE(n_components=2, init='pca')\n",
    "all_embedded = tsne.fit_transform(all_features)\n",
    "\n",
    "fig = px.scatter_3d(\n",
    "    all_embedded, x=0, y=1, z=2,\n",
    "    color=df_all.label, labels={'color': 'label'}\n",
    ")\n",
    "fig.update_traces(marker_size=6)\n",
    "fig.show()"
   ]
  }
 ],
 "metadata": {
  "kernelspec": {
   "display_name": "Auo",
   "language": "python",
   "name": "auo"
  },
  "language_info": {
   "codemirror_mode": {
    "name": "ipython",
    "version": 3
   },
   "file_extension": ".py",
   "mimetype": "text/x-python",
   "name": "python",
   "nbconvert_exporter": "python",
   "pygments_lexer": "ipython3",
   "version": "3.8.15"
  }
 },
 "nbformat": 4,
 "nbformat_minor": 5
}
